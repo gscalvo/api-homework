{
 "cells": [
  {
   "cell_type": "markdown",
   "metadata": {},
   "source": [
    "# Retirement Planner\n",
    "\n",
    "---\n",
    "\n",
    "## Environment Setup"
   ]
  },
  {
   "cell_type": "code",
   "execution_count": 23,
   "metadata": {},
   "outputs": [],
   "source": [
    "# Import libraries and dependencies\n",
    "import numpy as np\n",
    "import pandas as pd\n",
    "import os\n",
    "from datetime import datetime, timedelta\n",
    "import matplotlib.pyplot as plt\n",
    "import alpaca_trade_api as tradeapi\n",
    "%matplotlib inline"
   ]
  },
  {
   "cell_type": "code",
   "execution_count": 24,
   "metadata": {},
   "outputs": [],
   "source": [
    "# Set the random seed for resutls reproducibility (for testing purposes only)\n",
    "np.random.seed(42)"
   ]
  },
  {
   "cell_type": "markdown",
   "metadata": {},
   "source": [
    "---\n",
    "\n",
    "## Portfolio Planner\n",
    "\n",
    "In this activity, you will use the Alpaca API to grab historical data for a `60/40` portfolio using `SPY` to represent the stock portion and `AGG` to represent the bonds."
   ]
  },
  {
   "cell_type": "code",
   "execution_count": 25,
   "metadata": {},
   "outputs": [],
   "source": [
    "# Load .env enviroment variables\n",
    "from dotenv import load_dotenv\n",
    "load_dotenv()\n",
    "\n",
    "# Set Alpaca API key and secret\n",
    "alpaca_api_key = os.getenv(\"ALPACA_API_KEY\")\n",
    "alpaca_secret_key = os.getenv(\"ALPACA_SECRET_KEY\")\n",
    "\n",
    "# Create the Alpaca API object\n",
    "api = tradeapi.REST(\n",
    "    alpaca_api_key,\n",
    "    alpaca_secret_key,\n",
    "    api_version=\"v2\")"
   ]
  },
  {
   "cell_type": "markdown",
   "metadata": {},
   "source": [
    "# Data Collection\n",
    "\n",
    "In this step, you will need to use the Alpaca api to fetch closing prices for the `SPY` and `AGG` tickers. Save the results as a pandas DataFrame"
   ]
  },
  {
   "cell_type": "code",
   "execution_count": 26,
   "metadata": {},
   "outputs": [],
   "source": [
    "# Subset your tickers, then pull returns data:\n",
    "# Set the ticker\n",
    "ticker = [\"SPY\", \"AGG\"]\n",
    "\n",
    "# Set timeframe to '1D'\n",
    "timeframe = \"1D\"\n",
    "\n",
    "# Set start and end datetimes of 1 year, between now and 365 days ago.\n",
    "start_date = pd.Timestamp('2019-01-01', tz='America/New_York').isoformat()\n",
    "end_date = pd.Timestamp('2019-12-31', tz='America/New_York').isoformat()\n",
    "\n",
    "# Get 1 year's worth of historical data for SPY and AGG\n",
    "df = api.get_barset(\n",
    "    ticker,\n",
    "    timeframe,\n",
    "    limit=None,\n",
    "    start=start_date,\n",
    "    end=end_date,\n",
    "    after=None,\n",
    "    until=None,\n",
    ").df\n",
    "\n",
    "# Drop unnecessary columns\n",
    "df = df.drop(\n",
    "    columns=['open', 'high', 'low', 'volume'],\n",
    "    level=1\n",
    ")"
   ]
  },
  {
   "cell_type": "code",
   "execution_count": 27,
   "metadata": {},
   "outputs": [
    {
     "data": {
      "text/html": [
       "<div>\n",
       "<style scoped>\n",
       "    .dataframe tbody tr th:only-of-type {\n",
       "        vertical-align: middle;\n",
       "    }\n",
       "\n",
       "    .dataframe tbody tr th {\n",
       "        vertical-align: top;\n",
       "    }\n",
       "\n",
       "    .dataframe thead tr th {\n",
       "        text-align: left;\n",
       "    }\n",
       "\n",
       "    .dataframe thead tr:last-of-type th {\n",
       "        text-align: right;\n",
       "    }\n",
       "</style>\n",
       "<table border=\"1\" class=\"dataframe\">\n",
       "  <thead>\n",
       "    <tr>\n",
       "      <th></th>\n",
       "      <th>AGG</th>\n",
       "      <th>SPY</th>\n",
       "    </tr>\n",
       "    <tr>\n",
       "      <th></th>\n",
       "      <th>close</th>\n",
       "      <th>close</th>\n",
       "    </tr>\n",
       "    <tr>\n",
       "      <th>time</th>\n",
       "      <th></th>\n",
       "      <th></th>\n",
       "    </tr>\n",
       "  </thead>\n",
       "  <tbody>\n",
       "    <tr>\n",
       "      <th>2019-01-02 00:00:00-05:00</th>\n",
       "      <td>106.585</td>\n",
       "      <td>249.89</td>\n",
       "    </tr>\n",
       "    <tr>\n",
       "      <th>2019-01-03 00:00:00-05:00</th>\n",
       "      <td>107.020</td>\n",
       "      <td>244.46</td>\n",
       "    </tr>\n",
       "    <tr>\n",
       "      <th>2019-01-04 00:00:00-05:00</th>\n",
       "      <td>106.695</td>\n",
       "      <td>252.41</td>\n",
       "    </tr>\n",
       "    <tr>\n",
       "      <th>2019-01-07 00:00:00-05:00</th>\n",
       "      <td>106.470</td>\n",
       "      <td>254.40</td>\n",
       "    </tr>\n",
       "    <tr>\n",
       "      <th>2019-01-08 00:00:00-05:00</th>\n",
       "      <td>106.420</td>\n",
       "      <td>256.65</td>\n",
       "    </tr>\n",
       "  </tbody>\n",
       "</table>\n",
       "</div>"
      ],
      "text/plain": [
       "                               AGG     SPY\n",
       "                             close   close\n",
       "time                                      \n",
       "2019-01-02 00:00:00-05:00  106.585  249.89\n",
       "2019-01-03 00:00:00-05:00  107.020  244.46\n",
       "2019-01-04 00:00:00-05:00  106.695  252.41\n",
       "2019-01-07 00:00:00-05:00  106.470  254.40\n",
       "2019-01-08 00:00:00-05:00  106.420  256.65"
      ]
     },
     "execution_count": 27,
     "metadata": {},
     "output_type": "execute_result"
    }
   ],
   "source": [
    "# Display sample data\n",
    "df.head()"
   ]
  },
  {
   "cell_type": "markdown",
   "metadata": {},
   "source": [
    "---\n",
    "\n",
    "## Monte Carlo Simulation\n",
    "\n",
    "In this step, you will run Monte Carlo Simulations for your portfolio to model portfolio performance at different retirement ages. \n",
    "\n",
    "Complete the following steps:\n",
    "\n",
    "1. Calculate the daily returns for the SPY and AGG closing prices.\n",
    "\n",
    "2. Calculate volatility for both the SPY and AGG closing prices.\n",
    "\n",
    "3. Find the last day's closing price for both stocks and save those as variables\n",
    "\n",
    "4. Run a Monte Carlo Simulation of at least `100` iterations and generate at least `30` years of closing prices\n",
    "\n",
    "**Hint:** There are `252` trading days per year, so the number of records to generate for each Monte Carlo run will be `252 days * 30 years`."
   ]
  },
  {
   "cell_type": "code",
   "execution_count": 28,
   "metadata": {},
   "outputs": [
    {
     "data": {
      "text/html": [
       "<div>\n",
       "<style scoped>\n",
       "    .dataframe tbody tr th:only-of-type {\n",
       "        vertical-align: middle;\n",
       "    }\n",
       "\n",
       "    .dataframe tbody tr th {\n",
       "        vertical-align: top;\n",
       "    }\n",
       "\n",
       "    .dataframe thead tr th {\n",
       "        text-align: left;\n",
       "    }\n",
       "\n",
       "    .dataframe thead tr:last-of-type th {\n",
       "        text-align: right;\n",
       "    }\n",
       "</style>\n",
       "<table border=\"1\" class=\"dataframe\">\n",
       "  <thead>\n",
       "    <tr>\n",
       "      <th></th>\n",
       "      <th>AGG</th>\n",
       "      <th>SPY</th>\n",
       "    </tr>\n",
       "    <tr>\n",
       "      <th></th>\n",
       "      <th>close</th>\n",
       "      <th>close</th>\n",
       "    </tr>\n",
       "    <tr>\n",
       "      <th>time</th>\n",
       "      <th></th>\n",
       "      <th></th>\n",
       "    </tr>\n",
       "  </thead>\n",
       "  <tbody>\n",
       "    <tr>\n",
       "      <th>2019-01-03 00:00:00-05:00</th>\n",
       "      <td>0.004081</td>\n",
       "      <td>-0.021730</td>\n",
       "    </tr>\n",
       "    <tr>\n",
       "      <th>2019-01-04 00:00:00-05:00</th>\n",
       "      <td>-0.003037</td>\n",
       "      <td>0.032521</td>\n",
       "    </tr>\n",
       "    <tr>\n",
       "      <th>2019-01-07 00:00:00-05:00</th>\n",
       "      <td>-0.002109</td>\n",
       "      <td>0.007884</td>\n",
       "    </tr>\n",
       "    <tr>\n",
       "      <th>2019-01-08 00:00:00-05:00</th>\n",
       "      <td>-0.000470</td>\n",
       "      <td>0.008844</td>\n",
       "    </tr>\n",
       "    <tr>\n",
       "      <th>2019-01-09 00:00:00-05:00</th>\n",
       "      <td>0.000564</td>\n",
       "      <td>0.004130</td>\n",
       "    </tr>\n",
       "  </tbody>\n",
       "</table>\n",
       "</div>"
      ],
      "text/plain": [
       "                                AGG       SPY\n",
       "                              close     close\n",
       "time                                         \n",
       "2019-01-03 00:00:00-05:00  0.004081 -0.021730\n",
       "2019-01-04 00:00:00-05:00 -0.003037  0.032521\n",
       "2019-01-07 00:00:00-05:00 -0.002109  0.007884\n",
       "2019-01-08 00:00:00-05:00 -0.000470  0.008844\n",
       "2019-01-09 00:00:00-05:00  0.000564  0.004130"
      ]
     },
     "execution_count": 28,
     "metadata": {},
     "output_type": "execute_result"
    }
   ],
   "source": [
    "# Calculate the daily roi for the stocks\n",
    "returns = df.pct_change()\n",
    "returns.dropna(inplace=True)\n",
    "# Display sample data\n",
    "returns.head()"
   ]
  },
  {
   "cell_type": "code",
   "execution_count": 29,
   "metadata": {},
   "outputs": [],
   "source": [
    "# Compute daily volatility\n",
    "avg_daily_returns = returns.mean()\n",
    "std_daily_returns = returns.std() "
   ]
  },
  {
   "cell_type": "code",
   "execution_count": 30,
   "metadata": {},
   "outputs": [],
   "source": [
    "# Save the last day's closing price\n",
    "spy_closing_price = df['SPY']['close'][-1]\n",
    "agg_closing_price = df['AGG']['close'][-1]\n",
    "total_closing_price = spy_closing_price + agg_closing_price"
   ]
  },
  {
   "cell_type": "code",
   "execution_count": 31,
   "metadata": {},
   "outputs": [],
   "source": [
    "# Setup the Monte Carlo Parameters\n",
    "# Start with 1 year\n",
    "number_trading_days = 252 * 30\n",
    "# Set the number of simulations\n",
    "number_simulations = 500"
   ]
  },
  {
   "cell_type": "code",
   "execution_count": 32,
   "metadata": {},
   "outputs": [],
   "source": [
    "# Run the Monte Carlo Simulation\n",
    "\n",
    "portfolio_cumulative_returns = pd.DataFrame()\n",
    "simulated_total_prices = pd.DataFrame()\n",
    "simulated_prices = pd.DataFrame()\n",
    "\n",
    "for n in range(number_simulations):\n",
    "    \n",
    "    simulated_spy_prices = [spy_closing_price]\n",
    "    simulated_agg_prices = [agg_closing_price]\n",
    "    simulated_total_price = [total_closing_price]\n",
    "    \n",
    "    for i in range(number_trading_days):\n",
    "        \n",
    "        simulated_price_spy = simulated_spy_prices[-1] * (1 + np.random.normal(avg_daily_returns['SPY']['close'], std_daily_returns['SPY']['close']))\n",
    "        simulated_spy_prices.append(simulated_price_spy)\n",
    "        simulated_price_agg = simulated_agg_prices[-1] * (1 + np.random.normal(avg_daily_returns['AGG']['close'], std_daily_returns['AGG']['close']))\n",
    "        simulated_agg_prices.append(simulated_price_agg)\n",
    "        simulated_total_price1 = simulated_price_spy + simulated_price_agg\n",
    "        simulated_total_price.append(simulated_total_price1)\n",
    "    \n",
    "    simulated_total_prices[f\"Simulation {n+1}\"] = pd.Series(simulated_total_price)\n",
    "    simulated_prices['SPY Prices'] = pd.Series(simulated_spy_prices)\n",
    "    simulated_prices['AGG Prices'] = pd.Series(simulated_agg_prices)\n",
    "    simulated_daily_returns = simulated_prices.pct_change()\n",
    "    \n",
    "    weights = [0.60, 0.40]\n",
    "    \n",
    "    portfolio_daily_returns = simulated_daily_returns.dot(weights)\n",
    "    \n",
    "    portfolio_cumulative_returns[n] = (1 + portfolio_daily_returns.fillna(0)).cumprod()"
   ]
  },
  {
   "cell_type": "code",
   "execution_count": 33,
   "metadata": {},
   "outputs": [
    {
     "data": {
      "text/html": [
       "<div>\n",
       "<style scoped>\n",
       "    .dataframe tbody tr th:only-of-type {\n",
       "        vertical-align: middle;\n",
       "    }\n",
       "\n",
       "    .dataframe tbody tr th {\n",
       "        vertical-align: top;\n",
       "    }\n",
       "\n",
       "    .dataframe thead th {\n",
       "        text-align: right;\n",
       "    }\n",
       "</style>\n",
       "<table border=\"1\" class=\"dataframe\">\n",
       "  <thead>\n",
       "    <tr style=\"text-align: right;\">\n",
       "      <th></th>\n",
       "      <th>0</th>\n",
       "      <th>1</th>\n",
       "      <th>2</th>\n",
       "      <th>3</th>\n",
       "      <th>4</th>\n",
       "      <th>5</th>\n",
       "      <th>6</th>\n",
       "      <th>7</th>\n",
       "      <th>8</th>\n",
       "      <th>9</th>\n",
       "      <th>...</th>\n",
       "      <th>490</th>\n",
       "      <th>491</th>\n",
       "      <th>492</th>\n",
       "      <th>493</th>\n",
       "      <th>494</th>\n",
       "      <th>495</th>\n",
       "      <th>496</th>\n",
       "      <th>497</th>\n",
       "      <th>498</th>\n",
       "      <th>499</th>\n",
       "    </tr>\n",
       "  </thead>\n",
       "  <tbody>\n",
       "    <tr>\n",
       "      <th>0</th>\n",
       "      <td>1.000000</td>\n",
       "      <td>1.000000</td>\n",
       "      <td>1.000000</td>\n",
       "      <td>1.000000</td>\n",
       "      <td>1.000000</td>\n",
       "      <td>1.000000</td>\n",
       "      <td>1.000000</td>\n",
       "      <td>1.000000</td>\n",
       "      <td>1.000000</td>\n",
       "      <td>1.000000</td>\n",
       "      <td>...</td>\n",
       "      <td>1.000000</td>\n",
       "      <td>1.000000</td>\n",
       "      <td>1.000000</td>\n",
       "      <td>1.000000</td>\n",
       "      <td>1.000000</td>\n",
       "      <td>1.000000</td>\n",
       "      <td>1.000000</td>\n",
       "      <td>1.000000</td>\n",
       "      <td>1.000000</td>\n",
       "      <td>1.000000</td>\n",
       "    </tr>\n",
       "    <tr>\n",
       "      <th>1</th>\n",
       "      <td>1.002924</td>\n",
       "      <td>0.995998</td>\n",
       "      <td>0.993588</td>\n",
       "      <td>0.999838</td>\n",
       "      <td>1.005672</td>\n",
       "      <td>1.006944</td>\n",
       "      <td>1.009403</td>\n",
       "      <td>0.996555</td>\n",
       "      <td>1.001958</td>\n",
       "      <td>0.999350</td>\n",
       "      <td>...</td>\n",
       "      <td>1.002268</td>\n",
       "      <td>0.995970</td>\n",
       "      <td>1.007308</td>\n",
       "      <td>1.000162</td>\n",
       "      <td>0.997898</td>\n",
       "      <td>1.003207</td>\n",
       "      <td>0.996440</td>\n",
       "      <td>0.994143</td>\n",
       "      <td>1.003209</td>\n",
       "      <td>0.997553</td>\n",
       "    </tr>\n",
       "    <tr>\n",
       "      <th>2</th>\n",
       "      <td>1.007960</td>\n",
       "      <td>0.999997</td>\n",
       "      <td>0.993066</td>\n",
       "      <td>0.999039</td>\n",
       "      <td>1.009071</td>\n",
       "      <td>0.998193</td>\n",
       "      <td>1.004124</td>\n",
       "      <td>0.986295</td>\n",
       "      <td>1.001345</td>\n",
       "      <td>1.007831</td>\n",
       "      <td>...</td>\n",
       "      <td>1.004518</td>\n",
       "      <td>1.003370</td>\n",
       "      <td>1.010546</td>\n",
       "      <td>1.001968</td>\n",
       "      <td>0.999475</td>\n",
       "      <td>1.000275</td>\n",
       "      <td>0.996135</td>\n",
       "      <td>0.994774</td>\n",
       "      <td>1.003312</td>\n",
       "      <td>1.001444</td>\n",
       "    </tr>\n",
       "    <tr>\n",
       "      <th>3</th>\n",
       "      <td>1.007370</td>\n",
       "      <td>1.000230</td>\n",
       "      <td>0.996722</td>\n",
       "      <td>0.993519</td>\n",
       "      <td>1.008616</td>\n",
       "      <td>1.001409</td>\n",
       "      <td>1.008138</td>\n",
       "      <td>0.980579</td>\n",
       "      <td>1.001320</td>\n",
       "      <td>1.016103</td>\n",
       "      <td>...</td>\n",
       "      <td>1.004743</td>\n",
       "      <td>1.006242</td>\n",
       "      <td>1.015345</td>\n",
       "      <td>1.003627</td>\n",
       "      <td>0.993172</td>\n",
       "      <td>0.999241</td>\n",
       "      <td>0.999998</td>\n",
       "      <td>1.000494</td>\n",
       "      <td>1.006827</td>\n",
       "      <td>1.000481</td>\n",
       "    </tr>\n",
       "    <tr>\n",
       "      <th>4</th>\n",
       "      <td>1.016195</td>\n",
       "      <td>1.003282</td>\n",
       "      <td>0.993394</td>\n",
       "      <td>0.999439</td>\n",
       "      <td>1.010294</td>\n",
       "      <td>0.996675</td>\n",
       "      <td>1.007118</td>\n",
       "      <td>0.978040</td>\n",
       "      <td>1.009298</td>\n",
       "      <td>1.006307</td>\n",
       "      <td>...</td>\n",
       "      <td>1.006801</td>\n",
       "      <td>1.004678</td>\n",
       "      <td>1.014132</td>\n",
       "      <td>1.008910</td>\n",
       "      <td>0.999442</td>\n",
       "      <td>0.996474</td>\n",
       "      <td>0.994642</td>\n",
       "      <td>1.001385</td>\n",
       "      <td>1.011504</td>\n",
       "      <td>1.004130</td>\n",
       "    </tr>\n",
       "  </tbody>\n",
       "</table>\n",
       "<p>5 rows × 500 columns</p>\n",
       "</div>"
      ],
      "text/plain": [
       "        0         1         2         3         4         5         6    \\\n",
       "0  1.000000  1.000000  1.000000  1.000000  1.000000  1.000000  1.000000   \n",
       "1  1.002924  0.995998  0.993588  0.999838  1.005672  1.006944  1.009403   \n",
       "2  1.007960  0.999997  0.993066  0.999039  1.009071  0.998193  1.004124   \n",
       "3  1.007370  1.000230  0.996722  0.993519  1.008616  1.001409  1.008138   \n",
       "4  1.016195  1.003282  0.993394  0.999439  1.010294  0.996675  1.007118   \n",
       "\n",
       "        7         8         9    ...       490       491       492       493  \\\n",
       "0  1.000000  1.000000  1.000000  ...  1.000000  1.000000  1.000000  1.000000   \n",
       "1  0.996555  1.001958  0.999350  ...  1.002268  0.995970  1.007308  1.000162   \n",
       "2  0.986295  1.001345  1.007831  ...  1.004518  1.003370  1.010546  1.001968   \n",
       "3  0.980579  1.001320  1.016103  ...  1.004743  1.006242  1.015345  1.003627   \n",
       "4  0.978040  1.009298  1.006307  ...  1.006801  1.004678  1.014132  1.008910   \n",
       "\n",
       "        494       495       496       497       498       499  \n",
       "0  1.000000  1.000000  1.000000  1.000000  1.000000  1.000000  \n",
       "1  0.997898  1.003207  0.996440  0.994143  1.003209  0.997553  \n",
       "2  0.999475  1.000275  0.996135  0.994774  1.003312  1.001444  \n",
       "3  0.993172  0.999241  0.999998  1.000494  1.006827  1.000481  \n",
       "4  0.999442  0.996474  0.994642  1.001385  1.011504  1.004130  \n",
       "\n",
       "[5 rows x 500 columns]"
      ]
     },
     "execution_count": 33,
     "metadata": {},
     "output_type": "execute_result"
    }
   ],
   "source": [
    "# Check that the simulation ran successfully\n",
    "portfolio_cumulative_returns.head()"
   ]
  },
  {
   "cell_type": "code",
   "execution_count": 34,
   "metadata": {},
   "outputs": [
    {
     "data": {
      "text/plain": [
       "<matplotlib.axes._subplots.AxesSubplot at 0x2b83ed81688>"
      ]
     },
     "execution_count": 34,
     "metadata": {},
     "output_type": "execute_result"
    },
    {
     "data": {
      "image/png": "[encoded data removed]",
      "text/plain": [
       "<Figure size 432x288 with 1 Axes>"
      ]
     },
     "metadata": {
      "needs_background": "light"
     },
     "output_type": "display_data"
    }
   ],
   "source": [
    "# Visualize the Simulation\n",
    "portfolio_cumulative_returns.plot(legend=None, title=\"Simulated Cumulative Returns\")"
   ]
  },
  {
   "cell_type": "code",
   "execution_count": 35,
   "metadata": {},
   "outputs": [],
   "source": [
    "# Select the last row for the cumulative returns (cumulative returns at 30 years)\n",
    "ending_returns = portfolio_cumulative_returns.iloc[-1, :]"
   ]
  },
  {
   "cell_type": "code",
   "execution_count": 36,
   "metadata": {},
   "outputs": [
    {
     "data": {
      "text/plain": [
       "0.05     94.186902\n",
       "0.90    313.832717\n",
       "Name: 7560, dtype: float64"
      ]
     },
     "execution_count": 36,
     "metadata": {},
     "output_type": "execute_result"
    }
   ],
   "source": [
    "# Display the 90% confidence interval for the ending returns\n",
    "confidence_interval_90 = ending_returns.quantile(q=[0.05, 0.90])\n",
    "confidence_interval_90.head()"
   ]
  },
  {
   "cell_type": "code",
   "execution_count": 37,
   "metadata": {},
   "outputs": [
    {
     "data": {
      "text/plain": [
       "<matplotlib.lines.Line2D at 0x2b8430fd608>"
      ]
     },
     "execution_count": 37,
     "metadata": {},
     "output_type": "execute_result"
    },
    {
     "data": {
      "image/png": "[encoded data removed]",
      "text/plain": [
       "<Figure size 432x288 with 1 Axes>"
      ]
     },
     "metadata": {
      "needs_background": "light"
     },
     "output_type": "display_data"
    }
   ],
   "source": [
    "# Visualize the distribution of the ending returns\n",
    "plt.figure();\n",
    "ending_returns.plot(kind=\"hist\", density=True, bins=10)\n",
    "plt.axvline(confidence_interval_90.iloc[0], color='r')\n",
    "plt.axvline(confidence_interval_90.iloc[1], color='r')"
   ]
  },
  {
   "cell_type": "markdown",
   "metadata": {},
   "source": [
    "---"
   ]
  },
  {
   "cell_type": "markdown",
   "metadata": {},
   "source": [
    "## Retirement Analysis\n",
    "\n",
    "In this section, you will use the monte carlo model to answer the following retirement planning questions:\n",
    "\n",
    "1. What are the expected cumulative returns at `30` years for the `10th`, `50th`, and `90th` percentiles?\n",
    "\n",
    "2. Given an initial investment of `$20,000`, what is the expected return in dollars at the `10th`, `50th`, and `90th` percentiles?\n",
    "\n",
    "3. Given the current projected annual income from the Plaid analysis, will a `4%` withdrawal rate meet or exceed that value at the `10th` percentile? Note: This is basically determining if retirement income is equivalent to current income.\n",
    "\n",
    "4. How would a `50%` increase in the initial investment amount affect the `4%` retirement withdrawal? In other words, what happens if the initial investment had been bigger?"
   ]
  },
  {
   "cell_type": "markdown",
   "metadata": {},
   "source": [
    "### What are the expected cumulative returns at 30 years for the 10th, 50th, and 90th percentiles?"
   ]
  },
  {
   "cell_type": "code",
   "execution_count": 38,
   "metadata": {},
   "outputs": [
    {
     "name": "stdout",
     "output_type": "stream",
     "text": [
      "The cumulative returns at 30 years for the 90th percentile are 31283.27%\n",
      "The cumulative returns at 30 years for the 50th percentile are 18852.6%\n",
      "The cumulative returns at 30 years for the 10th percentile are 11617.88%\n"
     ]
    }
   ],
   "source": [
    "# Compute cumulative returns\n",
    "cumulative_returns_90 = ending_returns.quantile(q=0.90)\n",
    "cumulative_returns_50 = ending_returns.quantile(q=0.50)\n",
    "cumulative_returns_10 = ending_returns.quantile(q=0.10)\n",
    "\n",
    "print(f\"The cumulative returns at 30 years for the 90th percentile are {round((cumulative_returns_90 - 1) * 100 , 2)}%\")\n",
    "print(f\"The cumulative returns at 30 years for the 50th percentile are {round((cumulative_returns_50 - 1) * 100 , 2)}%\")\n",
    "print(f\"The cumulative returns at 30 years for the 10th percentile are {round((cumulative_returns_10 - 1) * 100 , 2)}%\")"
   ]
  },
  {
   "cell_type": "markdown",
   "metadata": {},
   "source": [
    "### Given an initial investment of `$20,000`, what is the expected portfolio return in dollars at the 10th, 50th, and 90th percentiles?"
   ]
  },
  {
   "cell_type": "code",
   "execution_count": 39,
   "metadata": {},
   "outputs": [
    {
     "name": "stdout",
     "output_type": "stream",
     "text": [
      "The expected portfolio return for the 90th percentile is $6276654.35\n",
      "The expected portfolio return for the 50th percentile is $3790519.95\n",
      "The expected portfolio return for the 10th percentile is $2343576.02\n"
     ]
    }
   ],
   "source": [
    "# Set initial investment\n",
    "initial_investment = 20000\n",
    "\n",
    "# Compute expected portfolio return\n",
    "expected_return_90 = round(initial_investment * cumulative_returns_90 , 2)\n",
    "expected_return_50 = round(initial_investment * cumulative_returns_50 , 2)\n",
    "expected_return_10 = round(initial_investment * cumulative_returns_10 , 2)\n",
    "\n",
    "print(f\"The expected portfolio return for the 90th percentile is ${expected_return_90}\")\n",
    "print(f\"The expected portfolio return for the 50th percentile is ${expected_return_50}\")\n",
    "print(f\"The expected portfolio return for the 10th percentile is ${expected_return_10}\")"
   ]
  },
  {
   "cell_type": "markdown",
   "metadata": {},
   "source": [
    "### Given the current projected annual income from the Plaid analysis, will a 4% withdraw rate from the retirement portfolio meet or exceed that value at the 10th percentile?\n",
    "\n",
    "Note: This is effectively saying that 90% of the expected returns will be greater than the return at the 10th percentile, so this can help measure the uncertainty about having enough funds at retirement"
   ]
  },
  {
   "cell_type": "code",
   "execution_count": 40,
   "metadata": {},
   "outputs": [
    {
     "name": "stdout",
     "output_type": "stream",
     "text": [
      "The yearly income of $93743.0408 is enough to cover the $6085 yearly income needed\n"
     ]
    }
   ],
   "source": [
    "# Set Plaid's projected income\n",
    "projected_income_plaid = 6085\n",
    "# Calculate the 4% withdrawal for the ending return as retirement income\n",
    "withdrawal_rate = 0.04\n",
    "retirement_income = withdrawal_rate * expected_return_10 \n",
    "# Determine if the retirement income meets or exceeds the current projected income\n",
    "if retirement_income >= projected_income_plaid:\n",
    "    print(f\"The yearly income of ${retirement_income} is enough to cover the ${projected_income_plaid} yearly income needed\")\n",
    "    \n",
    "else:\n",
    "    print(f\"The yearly income of ${retirement_income} is not enough to cover the ${projected_income_plaid} yearly income needed\")"
   ]
  },
  {
   "cell_type": "markdown",
   "metadata": {},
   "source": [
    "### How would a 50% increase in the initial investment amount affect the 4% retirement withdrawal?"
   ]
  },
  {
   "cell_type": "code",
   "execution_count": 41,
   "metadata": {},
   "outputs": [
    {
     "name": "stdout",
     "output_type": "stream",
     "text": [
      "The yearly income of $140614.56 is enough to cover the $6085 yearly income needed\n"
     ]
    }
   ],
   "source": [
    "# Re-calculate the retirement income with a 50% increase in the initial investment amount\n",
    "new_initial_investment = 1.50 * initial_investment\n",
    "new_expected_return_10 = round(new_initial_investment * cumulative_returns_10 , 2)\n",
    "new_retirement_income = round((withdrawal_rate * new_expected_return_10) , 2)\n",
    "if new_retirement_income >= projected_income_plaid:\n",
    "    print(f\"The yearly income of ${new_retirement_income} is enough to cover the ${projected_income_plaid} yearly income needed\")\n",
    "    \n",
    "else:\n",
    "    print(f\"The yearly income of ${new_retirement_income} is not enough to cover the ${projected_income_plaid} yearly income needed\")"
   ]
  },
  {
   "cell_type": "markdown",
   "metadata": {},
   "source": [
    "### Optional Challenge\n",
    "\n",
    "Use the Monte Carlo data and calculate the cumulative returns at the `5%`, `50%`, and `95%` quartiles and plot this data as a line chart to see how the cumulative returns change over the life of the investment.\n",
    "\n",
    "In this section, you need to calculate and plot the cumulative returns for the median and `90%` confidence intervals. This plot shows the expected cumulative returns for any given day between the first day and the last day of investment. "
   ]
  },
  {
   "cell_type": "code",
   "execution_count": 42,
   "metadata": {},
   "outputs": [
    {
     "data": {
      "text/html": [
       "<div>\n",
       "<style scoped>\n",
       "    .dataframe tbody tr th:only-of-type {\n",
       "        vertical-align: middle;\n",
       "    }\n",
       "\n",
       "    .dataframe tbody tr th {\n",
       "        vertical-align: top;\n",
       "    }\n",
       "\n",
       "    .dataframe thead th {\n",
       "        text-align: right;\n",
       "    }\n",
       "</style>\n",
       "<table border=\"1\" class=\"dataframe\">\n",
       "  <thead>\n",
       "    <tr style=\"text-align: right;\">\n",
       "      <th></th>\n",
       "      <th>0.95</th>\n",
       "      <th>0.5</th>\n",
       "      <th>0.05</th>\n",
       "    </tr>\n",
       "  </thead>\n",
       "  <tbody>\n",
       "    <tr>\n",
       "      <th>0</th>\n",
       "      <td>1.000000</td>\n",
       "      <td>1.000000</td>\n",
       "      <td>1.000000</td>\n",
       "    </tr>\n",
       "    <tr>\n",
       "      <th>1</th>\n",
       "      <td>1.008779</td>\n",
       "      <td>1.000808</td>\n",
       "      <td>0.992970</td>\n",
       "    </tr>\n",
       "    <tr>\n",
       "      <th>2</th>\n",
       "      <td>1.012425</td>\n",
       "      <td>1.001775</td>\n",
       "      <td>0.991137</td>\n",
       "    </tr>\n",
       "    <tr>\n",
       "      <th>3</th>\n",
       "      <td>1.016106</td>\n",
       "      <td>1.002377</td>\n",
       "      <td>0.989296</td>\n",
       "    </tr>\n",
       "    <tr>\n",
       "      <th>4</th>\n",
       "      <td>1.017702</td>\n",
       "      <td>1.003324</td>\n",
       "      <td>0.987306</td>\n",
       "    </tr>\n",
       "  </tbody>\n",
       "</table>\n",
       "</div>"
      ],
      "text/plain": [
       "       0.95      0.50      0.05\n",
       "0  1.000000  1.000000  1.000000\n",
       "1  1.008779  1.000808  0.992970\n",
       "2  1.012425  1.001775  0.991137\n",
       "3  1.016106  1.002377  0.989296\n",
       "4  1.017702  1.003324  0.987306"
      ]
     },
     "execution_count": 42,
     "metadata": {},
     "output_type": "execute_result"
    }
   ],
   "source": [
    "# Compute projected returns\n",
    "quant_95 = portfolio_cumulative_returns.quantile(0.95, axis=1)\n",
    "quant_50 = portfolio_cumulative_returns.quantile(0.50, axis=1)\n",
    "quant_5 = portfolio_cumulative_returns.quantile(0.05, axis=1)\n",
    "\n",
    "cumulative_returns_challenge = pd.concat([quant_95, quant_50, quant_5], axis=\"columns\", join=\"inner\")\n",
    "\n",
    "# Display sample data\n",
    "cumulative_returns_challenge.head()"
   ]
  },
  {
   "cell_type": "code",
   "execution_count": 43,
   "metadata": {},
   "outputs": [
    {
     "data": {
      "text/plain": [
       "<matplotlib.axes._subplots.AxesSubplot at 0x2b84313ee88>"
      ]
     },
     "execution_count": 43,
     "metadata": {},
     "output_type": "execute_result"
    },
    {
     "data": {
      "image/png": "[encoded data removed]",
      "text/plain": [
       "<Figure size 432x288 with 1 Axes>"
      ]
     },
     "metadata": {
      "needs_background": "light"
     },
     "output_type": "display_data"
    }
   ],
   "source": [
    "# Plot the cumulative returns over time\n",
    "cumulative_returns_challenge.plot()"
   ]
  },
  {
   "cell_type": "code",
   "execution_count": 44,
   "metadata": {},
   "outputs": [
    {
     "data": {
      "text/plain": [
       "<matplotlib.axes._subplots.AxesSubplot at 0x2b8431a8e08>"
      ]
     },
     "execution_count": 44,
     "metadata": {},
     "output_type": "execute_result"
    },
    {
     "data": {
      "image/png": "[encoded data removed]",
      "text/plain": [
       "<Figure size 432x288 with 1 Axes>"
      ]
     },
     "metadata": {
      "needs_background": "light"
     },
     "output_type": "display_data"
    }
   ],
   "source": [
    "# Compute portfolio performance over time\n",
    "portfolio_performance = cumulative_returns_challenge * 20000\n",
    "# Plot projected performance over time\n",
    "portfolio_performance.plot(title=\"Portfolio Performance Overtime\")"
   ]
  }
 ],
 "metadata": {
  "kernelspec": {
   "display_name": "Python 3",
   "language": "python",
   "name": "python3"
  },
  "language_info": {
   "codemirror_mode": {
    "name": "ipython",
    "version": 3
   },
   "file_extension": ".py",
   "mimetype": "text/x-python",
   "name": "python",
   "nbconvert_exporter": "python",
   "pygments_lexer": "ipython3",
   "version": "3.7.6"
  }
 },
 "nbformat": 4,
 "nbformat_minor": 4
}
