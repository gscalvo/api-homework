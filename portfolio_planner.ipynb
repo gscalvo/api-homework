{
 "cells": [
  {
   "cell_type": "markdown",
   "metadata": {},
   "source": [
    "# Retirement Planner\n",
    "\n",
    "---\n",
    "\n",
    "## Environment Setup"
   ]
  },
  {
   "cell_type": "code",
   "execution_count": 1,
   "metadata": {},
   "outputs": [
    {
     "name": "stderr",
     "output_type": "stream",
     "text": [
      "\n",
      "Bad key \"text.kerning_factor\" on line 4 in\n",
      "C:\\Users\\gscal\\anaconda3\\lib\\site-packages\\matplotlib\\mpl-data\\stylelib\\_classic_test_patch.mplstyle.\n",
      "You probably need to get an updated matplotlibrc file from\n",
      "http://github.com/matplotlib/matplotlib/blob/master/matplotlibrc.template\n",
      "or from the matplotlib source distribution\n"
     ]
    }
   ],
   "source": [
    "# Import libraries and dependencies\n",
    "import numpy as np\n",
    "import pandas as pd\n",
    "import os\n",
    "from datetime import datetime, timedelta\n",
    "import matplotlib.pyplot as plt\n",
    "import alpaca_trade_api as tradeapi\n",
    "%matplotlib inline"
   ]
  },
  {
   "cell_type": "code",
   "execution_count": 2,
   "metadata": {},
   "outputs": [],
   "source": [
    "# Set the random seed for resutls reproducibility (for testing purposes only)\n",
    "np.random.seed(42)"
   ]
  },
  {
   "cell_type": "markdown",
   "metadata": {},
   "source": [
    "---\n",
    "\n",
    "## Portfolio Planner\n",
    "\n",
    "In this activity, you will use the Alpaca API to grab historical data for a `60/40` portfolio using `SPY` to represent the stock portion and `AGG` to represent the bonds."
   ]
  },
  {
   "cell_type": "code",
   "execution_count": 3,
   "metadata": {},
   "outputs": [],
   "source": [
    "# Load .env enviroment variables\n",
    "from dotenv import load_dotenv\n",
    "load_dotenv()\n",
    "\n",
    "# Set Alpaca API key and secret\n",
    "alpaca_api_key = os.getenv(\"ALPACA_API_KEY\")\n",
    "alpaca_secret_key = os.getenv(\"ALPACA_SECRET_KEY\")\n",
    "\n",
    "# Create the Alpaca API object\n",
    "api = tradeapi.REST(\n",
    "    alpaca_api_key,\n",
    "    alpaca_secret_key,\n",
    "    api_version=\"v2\")"
   ]
  },
  {
   "cell_type": "markdown",
   "metadata": {},
   "source": [
    "# Data Collection\n",
    "\n",
    "In this step, you will need to use the Alpaca api to fetch closing prices for the `SPY` and `AGG` tickers. Save the results as a pandas DataFrame"
   ]
  },
  {
   "cell_type": "code",
   "execution_count": 4,
   "metadata": {},
   "outputs": [],
   "source": [
    "# Subset your tickers, then pull returns data:\n",
    "# Set the ticker\n",
    "ticker = [\"SPY\", \"AGG\"]\n",
    "\n",
    "# Set timeframe to '1D'\n",
    "timeframe = \"1D\"\n",
    "\n",
    "# Set start and end datetimes of 1 year, between now and 365 days ago.\n",
    "start_date = pd.Timestamp('2019-01-01', tz='America/New_York').isoformat()\n",
    "end_date = pd.Timestamp('2019-12-31', tz='America/New_York').isoformat()\n",
    "\n",
    "# Get 1 year's worth of historical data for SPY and AGG\n",
    "df = api.get_barset(\n",
    "    ticker,\n",
    "    timeframe,\n",
    "    limit=None,\n",
    "    start=start_date,\n",
    "    end=end_date,\n",
    "    after=None,\n",
    "    until=None,\n",
    ").df\n",
    "\n",
    "# Drop unnecessary columns\n",
    "df = df.drop(\n",
    "    columns=['open', 'high', 'low', 'volume'],\n",
    "    level=1\n",
    ")"
   ]
  },
  {
   "cell_type": "code",
   "execution_count": 5,
   "metadata": {},
   "outputs": [
    {
     "data": {
      "text/html": [
       "<div>\n",
       "<style scoped>\n",
       "    .dataframe tbody tr th:only-of-type {\n",
       "        vertical-align: middle;\n",
       "    }\n",
       "\n",
       "    .dataframe tbody tr th {\n",
       "        vertical-align: top;\n",
       "    }\n",
       "\n",
       "    .dataframe thead tr th {\n",
       "        text-align: left;\n",
       "    }\n",
       "\n",
       "    .dataframe thead tr:last-of-type th {\n",
       "        text-align: right;\n",
       "    }\n",
       "</style>\n",
       "<table border=\"1\" class=\"dataframe\">\n",
       "  <thead>\n",
       "    <tr>\n",
       "      <th></th>\n",
       "      <th>AGG</th>\n",
       "      <th>SPY</th>\n",
       "    </tr>\n",
       "    <tr>\n",
       "      <th></th>\n",
       "      <th>close</th>\n",
       "      <th>close</th>\n",
       "    </tr>\n",
       "    <tr>\n",
       "      <th>time</th>\n",
       "      <th></th>\n",
       "      <th></th>\n",
       "    </tr>\n",
       "  </thead>\n",
       "  <tbody>\n",
       "    <tr>\n",
       "      <th>2019-01-02 00:00:00-05:00</th>\n",
       "      <td>106.585</td>\n",
       "      <td>249.89</td>\n",
       "    </tr>\n",
       "    <tr>\n",
       "      <th>2019-01-03 00:00:00-05:00</th>\n",
       "      <td>107.020</td>\n",
       "      <td>244.46</td>\n",
       "    </tr>\n",
       "    <tr>\n",
       "      <th>2019-01-04 00:00:00-05:00</th>\n",
       "      <td>106.695</td>\n",
       "      <td>252.41</td>\n",
       "    </tr>\n",
       "    <tr>\n",
       "      <th>2019-01-07 00:00:00-05:00</th>\n",
       "      <td>106.470</td>\n",
       "      <td>254.40</td>\n",
       "    </tr>\n",
       "    <tr>\n",
       "      <th>2019-01-08 00:00:00-05:00</th>\n",
       "      <td>106.420</td>\n",
       "      <td>256.65</td>\n",
       "    </tr>\n",
       "  </tbody>\n",
       "</table>\n",
       "</div>"
      ],
      "text/plain": [
       "                               AGG     SPY\n",
       "                             close   close\n",
       "time                                      \n",
       "2019-01-02 00:00:00-05:00  106.585  249.89\n",
       "2019-01-03 00:00:00-05:00  107.020  244.46\n",
       "2019-01-04 00:00:00-05:00  106.695  252.41\n",
       "2019-01-07 00:00:00-05:00  106.470  254.40\n",
       "2019-01-08 00:00:00-05:00  106.420  256.65"
      ]
     },
     "execution_count": 5,
     "metadata": {},
     "output_type": "execute_result"
    }
   ],
   "source": [
    "# Display sample data\n",
    "df.head()"
   ]
  },
  {
   "cell_type": "markdown",
   "metadata": {},
   "source": [
    "---\n",
    "\n",
    "## Monte Carlo Simulation\n",
    "\n",
    "In this step, you will run Monte Carlo Simulations for your portfolio to model portfolio performance at different retirement ages. \n",
    "\n",
    "Complete the following steps:\n",
    "\n",
    "1. Calculate the daily returns for the SPY and AGG closing prices.\n",
    "\n",
    "2. Calculate volatility for both the SPY and AGG closing prices.\n",
    "\n",
    "3. Find the last day's closing price for both stocks and save those as variables\n",
    "\n",
    "4. Run a Monte Carlo Simulation of at least `100` iterations and generate at least `30` years of closing prices\n",
    "\n",
    "**Hint:** There are `252` trading days per year, so the number of records to generate for each Monte Carlo run will be `252 days * 30 years`."
   ]
  },
  {
   "cell_type": "code",
   "execution_count": 6,
   "metadata": {},
   "outputs": [
    {
     "data": {
      "text/html": [
       "<div>\n",
       "<style scoped>\n",
       "    .dataframe tbody tr th:only-of-type {\n",
       "        vertical-align: middle;\n",
       "    }\n",
       "\n",
       "    .dataframe tbody tr th {\n",
       "        vertical-align: top;\n",
       "    }\n",
       "\n",
       "    .dataframe thead tr th {\n",
       "        text-align: left;\n",
       "    }\n",
       "\n",
       "    .dataframe thead tr:last-of-type th {\n",
       "        text-align: right;\n",
       "    }\n",
       "</style>\n",
       "<table border=\"1\" class=\"dataframe\">\n",
       "  <thead>\n",
       "    <tr>\n",
       "      <th></th>\n",
       "      <th>AGG</th>\n",
       "      <th>SPY</th>\n",
       "    </tr>\n",
       "    <tr>\n",
       "      <th></th>\n",
       "      <th>close</th>\n",
       "      <th>close</th>\n",
       "    </tr>\n",
       "    <tr>\n",
       "      <th>time</th>\n",
       "      <th></th>\n",
       "      <th></th>\n",
       "    </tr>\n",
       "  </thead>\n",
       "  <tbody>\n",
       "    <tr>\n",
       "      <th>2019-01-03 00:00:00-05:00</th>\n",
       "      <td>0.004081</td>\n",
       "      <td>-0.021730</td>\n",
       "    </tr>\n",
       "    <tr>\n",
       "      <th>2019-01-04 00:00:00-05:00</th>\n",
       "      <td>-0.003037</td>\n",
       "      <td>0.032521</td>\n",
       "    </tr>\n",
       "    <tr>\n",
       "      <th>2019-01-07 00:00:00-05:00</th>\n",
       "      <td>-0.002109</td>\n",
       "      <td>0.007884</td>\n",
       "    </tr>\n",
       "    <tr>\n",
       "      <th>2019-01-08 00:00:00-05:00</th>\n",
       "      <td>-0.000470</td>\n",
       "      <td>0.008844</td>\n",
       "    </tr>\n",
       "    <tr>\n",
       "      <th>2019-01-09 00:00:00-05:00</th>\n",
       "      <td>0.000564</td>\n",
       "      <td>0.004130</td>\n",
       "    </tr>\n",
       "  </tbody>\n",
       "</table>\n",
       "</div>"
      ],
      "text/plain": [
       "                                AGG       SPY\n",
       "                              close     close\n",
       "time                                         \n",
       "2019-01-03 00:00:00-05:00  0.004081 -0.021730\n",
       "2019-01-04 00:00:00-05:00 -0.003037  0.032521\n",
       "2019-01-07 00:00:00-05:00 -0.002109  0.007884\n",
       "2019-01-08 00:00:00-05:00 -0.000470  0.008844\n",
       "2019-01-09 00:00:00-05:00  0.000564  0.004130"
      ]
     },
     "execution_count": 6,
     "metadata": {},
     "output_type": "execute_result"
    }
   ],
   "source": [
    "# Calculate the daily roi for the stocks\n",
    "returns = df.pct_change()\n",
    "returns.dropna(inplace=True)\n",
    "# Display sample data\n",
    "returns.head()"
   ]
  },
  {
   "cell_type": "code",
   "execution_count": 7,
   "metadata": {},
   "outputs": [],
   "source": [
    "# Compute daily volatility\n",
    "avg_daily_returns = returns.mean()\n",
    "std_daily_returns = returns.std() "
   ]
  },
  {
   "cell_type": "code",
   "execution_count": 8,
   "metadata": {},
   "outputs": [],
   "source": [
    "# Save the last day's closing price\n",
    "spy_closing_price = df['SPY']['close'][-1]\n",
    "agg_closing_price = df['AGG']['close'][-1]\n",
    "total_closing_price = spy_closing_price + agg_closing_price"
   ]
  },
  {
   "cell_type": "code",
   "execution_count": 97,
   "metadata": {},
   "outputs": [],
   "source": [
    "# Setup the Monte Carlo Parameters\n",
    "# Start with 1 year\n",
    "number_trading_days = 252 * 1\n",
    "# Set the number of simulations\n",
    "number_simulations = 500"
   ]
  },
  {
   "cell_type": "code",
   "execution_count": 98,
   "metadata": {},
   "outputs": [],
   "source": [
    "# Run the Monte Carlo Simulation\n",
    "\n",
    "portfolio_cumulative_returns = pd.DataFrame()\n",
    "simulated_total_prices = pd.DataFrame()\n",
    "simulated_prices = pd.DataFrame()\n",
    "\n",
    "for n in range(number_simulations):\n",
    "    \n",
    "    simulated_spy_prices = [spy_closing_price]\n",
    "    simulated_agg_prices = [agg_closing_price]\n",
    "    simulated_total_price = [total_closing_price]\n",
    "    \n",
    "    for i in range(number_trading_days):\n",
    "        \n",
    "        simulated_price_spy = simulated_spy_prices[-1] * (1 + np.random.normal(avg_daily_returns['SPY']['close'], std_daily_returns['SPY']['close']))\n",
    "        simulated_spy_prices.append(simulated_price_spy)\n",
    "        simulated_price_agg = simulated_agg_prices[-1] * (1 + np.random.normal(avg_daily_returns['AGG']['close'], std_daily_returns['AGG']['close']))\n",
    "        simulated_agg_prices.append(simulated_price_agg)\n",
    "        simulated_total_price1 = simulated_price_spy + simulated_price_agg\n",
    "        simulated_total_price.append(simulated_total_price1)\n",
    "    \n",
    "    simulated_total_prices[f\"Simulation {n+1}\"] = pd.Series(simulated_total_price)\n",
    "    simulated_prices['SPY Prices'] = pd.Series(simulated_spy_prices)\n",
    "    simulated_prices['AGG Prices'] = pd.Series(simulated_agg_prices)\n",
    "    simulated_daily_returns = simulated_prices.pct_change()\n",
    "    \n",
    "    weights = [0.60, 0.40]\n",
    "    \n",
    "    portfolio_daily_returns = simulated_daily_returns.dot(weights)\n",
    "    \n",
    "    portfolio_cumulative_returns[n] = (1 + portfolio_daily_returns.fillna(0)).cumprod()"
   ]
  },
  {
   "cell_type": "code",
   "execution_count": 99,
   "metadata": {},
   "outputs": [
    {
     "data": {
      "text/html": [
       "<div>\n",
       "<style scoped>\n",
       "    .dataframe tbody tr th:only-of-type {\n",
       "        vertical-align: middle;\n",
       "    }\n",
       "\n",
       "    .dataframe tbody tr th {\n",
       "        vertical-align: top;\n",
       "    }\n",
       "\n",
       "    .dataframe thead th {\n",
       "        text-align: right;\n",
       "    }\n",
       "</style>\n",
       "<table border=\"1\" class=\"dataframe\">\n",
       "  <thead>\n",
       "    <tr style=\"text-align: right;\">\n",
       "      <th></th>\n",
       "      <th>0</th>\n",
       "      <th>1</th>\n",
       "      <th>2</th>\n",
       "      <th>3</th>\n",
       "      <th>4</th>\n",
       "      <th>5</th>\n",
       "      <th>6</th>\n",
       "      <th>7</th>\n",
       "      <th>8</th>\n",
       "      <th>9</th>\n",
       "      <th>...</th>\n",
       "      <th>490</th>\n",
       "      <th>491</th>\n",
       "      <th>492</th>\n",
       "      <th>493</th>\n",
       "      <th>494</th>\n",
       "      <th>495</th>\n",
       "      <th>496</th>\n",
       "      <th>497</th>\n",
       "      <th>498</th>\n",
       "      <th>499</th>\n",
       "    </tr>\n",
       "  </thead>\n",
       "  <tbody>\n",
       "    <tr>\n",
       "      <th>0</th>\n",
       "      <td>1.000000</td>\n",
       "      <td>1.000000</td>\n",
       "      <td>1.000000</td>\n",
       "      <td>1.000000</td>\n",
       "      <td>1.000000</td>\n",
       "      <td>1.000000</td>\n",
       "      <td>1.000000</td>\n",
       "      <td>1.000000</td>\n",
       "      <td>1.000000</td>\n",
       "      <td>1.000000</td>\n",
       "      <td>...</td>\n",
       "      <td>1.000000</td>\n",
       "      <td>1.000000</td>\n",
       "      <td>1.000000</td>\n",
       "      <td>1.000000</td>\n",
       "      <td>1.000000</td>\n",
       "      <td>1.000000</td>\n",
       "      <td>1.000000</td>\n",
       "      <td>1.000000</td>\n",
       "      <td>1.000000</td>\n",
       "      <td>1.000000</td>\n",
       "    </tr>\n",
       "    <tr>\n",
       "      <th>1</th>\n",
       "      <td>0.996671</td>\n",
       "      <td>0.996304</td>\n",
       "      <td>0.996804</td>\n",
       "      <td>0.998019</td>\n",
       "      <td>1.000058</td>\n",
       "      <td>1.001807</td>\n",
       "      <td>0.999762</td>\n",
       "      <td>1.008006</td>\n",
       "      <td>1.002932</td>\n",
       "      <td>0.999878</td>\n",
       "      <td>...</td>\n",
       "      <td>0.999607</td>\n",
       "      <td>1.005533</td>\n",
       "      <td>1.007659</td>\n",
       "      <td>0.993901</td>\n",
       "      <td>0.999880</td>\n",
       "      <td>1.002735</td>\n",
       "      <td>1.004539</td>\n",
       "      <td>1.005912</td>\n",
       "      <td>1.002115</td>\n",
       "      <td>0.997204</td>\n",
       "    </tr>\n",
       "    <tr>\n",
       "      <th>2</th>\n",
       "      <td>0.995523</td>\n",
       "      <td>0.999725</td>\n",
       "      <td>0.998890</td>\n",
       "      <td>0.993606</td>\n",
       "      <td>1.001765</td>\n",
       "      <td>1.002345</td>\n",
       "      <td>1.003866</td>\n",
       "      <td>1.008450</td>\n",
       "      <td>1.003267</td>\n",
       "      <td>1.000071</td>\n",
       "      <td>...</td>\n",
       "      <td>0.994909</td>\n",
       "      <td>1.013195</td>\n",
       "      <td>0.997816</td>\n",
       "      <td>0.990508</td>\n",
       "      <td>1.001420</td>\n",
       "      <td>0.996502</td>\n",
       "      <td>1.004210</td>\n",
       "      <td>1.005777</td>\n",
       "      <td>0.993765</td>\n",
       "      <td>0.995114</td>\n",
       "    </tr>\n",
       "    <tr>\n",
       "      <th>3</th>\n",
       "      <td>0.990224</td>\n",
       "      <td>1.011722</td>\n",
       "      <td>1.001374</td>\n",
       "      <td>0.995968</td>\n",
       "      <td>1.003021</td>\n",
       "      <td>1.004285</td>\n",
       "      <td>1.013301</td>\n",
       "      <td>1.004308</td>\n",
       "      <td>0.999386</td>\n",
       "      <td>0.997605</td>\n",
       "      <td>...</td>\n",
       "      <td>0.992147</td>\n",
       "      <td>1.018073</td>\n",
       "      <td>0.999596</td>\n",
       "      <td>0.987234</td>\n",
       "      <td>1.003817</td>\n",
       "      <td>0.994199</td>\n",
       "      <td>1.004819</td>\n",
       "      <td>1.006867</td>\n",
       "      <td>0.988498</td>\n",
       "      <td>1.006217</td>\n",
       "    </tr>\n",
       "    <tr>\n",
       "      <th>4</th>\n",
       "      <td>0.993986</td>\n",
       "      <td>1.009563</td>\n",
       "      <td>0.992505</td>\n",
       "      <td>0.986776</td>\n",
       "      <td>0.998277</td>\n",
       "      <td>0.997106</td>\n",
       "      <td>1.016536</td>\n",
       "      <td>1.011310</td>\n",
       "      <td>0.998710</td>\n",
       "      <td>0.998113</td>\n",
       "      <td>...</td>\n",
       "      <td>0.982577</td>\n",
       "      <td>1.022980</td>\n",
       "      <td>0.993516</td>\n",
       "      <td>0.988742</td>\n",
       "      <td>0.996611</td>\n",
       "      <td>0.995494</td>\n",
       "      <td>1.001472</td>\n",
       "      <td>1.006585</td>\n",
       "      <td>0.992395</td>\n",
       "      <td>0.997145</td>\n",
       "    </tr>\n",
       "  </tbody>\n",
       "</table>\n",
       "<p>5 rows × 500 columns</p>\n",
       "</div>"
      ],
      "text/plain": [
       "        0         1         2         3         4         5         6    \\\n",
       "0  1.000000  1.000000  1.000000  1.000000  1.000000  1.000000  1.000000   \n",
       "1  0.996671  0.996304  0.996804  0.998019  1.000058  1.001807  0.999762   \n",
       "2  0.995523  0.999725  0.998890  0.993606  1.001765  1.002345  1.003866   \n",
       "3  0.990224  1.011722  1.001374  0.995968  1.003021  1.004285  1.013301   \n",
       "4  0.993986  1.009563  0.992505  0.986776  0.998277  0.997106  1.016536   \n",
       "\n",
       "        7         8         9    ...       490       491       492       493  \\\n",
       "0  1.000000  1.000000  1.000000  ...  1.000000  1.000000  1.000000  1.000000   \n",
       "1  1.008006  1.002932  0.999878  ...  0.999607  1.005533  1.007659  0.993901   \n",
       "2  1.008450  1.003267  1.000071  ...  0.994909  1.013195  0.997816  0.990508   \n",
       "3  1.004308  0.999386  0.997605  ...  0.992147  1.018073  0.999596  0.987234   \n",
       "4  1.011310  0.998710  0.998113  ...  0.982577  1.022980  0.993516  0.988742   \n",
       "\n",
       "        494       495       496       497       498       499  \n",
       "0  1.000000  1.000000  1.000000  1.000000  1.000000  1.000000  \n",
       "1  0.999880  1.002735  1.004539  1.005912  1.002115  0.997204  \n",
       "2  1.001420  0.996502  1.004210  1.005777  0.993765  0.995114  \n",
       "3  1.003817  0.994199  1.004819  1.006867  0.988498  1.006217  \n",
       "4  0.996611  0.995494  1.001472  1.006585  0.992395  0.997145  \n",
       "\n",
       "[5 rows x 500 columns]"
      ]
     },
     "execution_count": 99,
     "metadata": {},
     "output_type": "execute_result"
    }
   ],
   "source": [
    "# Check that the simulation ran successfully\n",
    "portfolio_cumulative_returns.head()"
   ]
  },
  {
   "cell_type": "code",
   "execution_count": 101,
   "metadata": {},
   "outputs": [
    {
     "data": {
      "text/plain": [
       "<matplotlib.axes._subplots.AxesSubplot at 0x228b067e2c8>"
      ]
     },
     "execution_count": 101,
     "metadata": {},
     "output_type": "execute_result"
    },
    {
     "data": {
      "image/png": "[encoded data removed]",
      "text/plain": [
       "<Figure size 432x288 with 1 Axes>"
      ]
     },
     "metadata": {
      "needs_background": "light"
     },
     "output_type": "display_data"
    }
   ],
   "source": [
    "# Visualize the Simulation\n",
    "portfolio_cumulative_returns.plot(legend=None, title=\"Simulated Cumulative Returns\")"
   ]
  },
  {
   "cell_type": "code",
   "execution_count": 102,
   "metadata": {},
   "outputs": [],
   "source": [
    "# Select the last row for the cumulative returns (cumulative returns at 30 years)\n",
    "ending_returns = portfolio_cumulative_returns.iloc[-1, :]"
   ]
  },
  {
   "cell_type": "code",
   "execution_count": 103,
   "metadata": {},
   "outputs": [
    {
     "data": {
      "text/plain": [
       "0.05    1.052808\n",
       "0.90    1.308023\n",
       "Name: 252, dtype: float64"
      ]
     },
     "execution_count": 103,
     "metadata": {},
     "output_type": "execute_result"
    }
   ],
   "source": [
    "# Display the 90% confidence interval for the ending returns\n",
    "confidence_interval_90 = ending_returns.quantile(q=[0.05, 0.90])\n",
    "confidence_interval_90.head()"
   ]
  },
  {
   "cell_type": "code",
   "execution_count": 104,
   "metadata": {},
   "outputs": [
    {
     "data": {
      "text/plain": [
       "<matplotlib.lines.Line2D at 0x228b08faf48>"
      ]
     },
     "execution_count": 104,
     "metadata": {},
     "output_type": "execute_result"
    },
    {
     "data": {
      "image/png": "[encoded data removed]",
      "text/plain": [
       "<Figure size 432x288 with 1 Axes>"
      ]
     },
     "metadata": {
      "needs_background": "light"
     },
     "output_type": "display_data"
    }
   ],
   "source": [
    "# Visualize the distribution of the ending returns\n",
    "plt.figure();\n",
    "ending_returns.plot(kind=\"hist\", density=True, bins=10)\n",
    "plt.axvline(confidence_interval_90.iloc[0], color='r')\n",
    "plt.axvline(confidence_interval_90.iloc[1], color='r')"
   ]
  },
  {
   "cell_type": "markdown",
   "metadata": {},
   "source": [
    "---"
   ]
  },
  {
   "cell_type": "markdown",
   "metadata": {},
   "source": [
    "## Retirement Analysis\n",
    "\n",
    "In this section, you will use the monte carlo model to answer the following retirement planning questions:\n",
    "\n",
    "1. What are the expected cumulative returns at `30` years for the `10th`, `50th`, and `90th` percentiles?\n",
    "\n",
    "2. Given an initial investment of `$20,000`, what is the expected return in dollars at the `10th`, `50th`, and `90th` percentiles?\n",
    "\n",
    "3. Given the current projected annual income from the Plaid analysis, will a `4%` withdrawal rate meet or exceed that value at the `10th` percentile? Note: This is basically determining if retirement income is equivalent to current income.\n",
    "\n",
    "4. How would a `50%` increase in the initial investment amount affect the `4%` retirement withdrawal? In other words, what happens if the initial investment had been bigger?"
   ]
  },
  {
   "cell_type": "markdown",
   "metadata": {},
   "source": [
    "### What are the expected cumulative returns at 30 years for the 10th, 50th, and 90th percentiles?"
   ]
  },
  {
   "cell_type": "code",
   "execution_count": 105,
   "metadata": {},
   "outputs": [
    {
     "name": "stdout",
     "output_type": "stream",
     "text": [
      "The cumulative returns at 30 years for the 90th percentile are 30.8%\n",
      "The cumulative returns at 30 years for the 50th percentile are 19.51%\n",
      "The cumulative returns at 30 years for the 10th percentile are 8.32%\n"
     ]
    }
   ],
   "source": [
    "# Compute cumulative returns\n",
    "cumulative_returns_90 = ending_returns.quantile(q=0.90)\n",
    "cumulative_returns_50 = ending_returns.quantile(q=0.50)\n",
    "cumulative_returns_10 = ending_returns.quantile(q=0.10)\n",
    "\n",
    "print(f\"The cumulative returns at 30 years for the 90th percentile are {round((cumulative_returns_90 - 1) * 100 , 2)}%\")\n",
    "print(f\"The cumulative returns at 30 years for the 50th percentile are {round((cumulative_returns_50 - 1) * 100 , 2)}%\")\n",
    "print(f\"The cumulative returns at 30 years for the 10th percentile are {round((cumulative_returns_10 - 1) * 100 , 2)}%\")"
   ]
  },
  {
   "cell_type": "markdown",
   "metadata": {},
   "source": [
    "### Given an initial investment of `$20,000`, what is the expected portfolio return in dollars at the 10th, 50th, and 90th percentiles?"
   ]
  },
  {
   "cell_type": "code",
   "execution_count": 106,
   "metadata": {},
   "outputs": [
    {
     "name": "stdout",
     "output_type": "stream",
     "text": [
      "The expected portfolio return for the 90th percentile is $26160.46\n",
      "The expected portfolio return for the 50th percentile is $23902.29\n",
      "The expected portfolio return for the 10th percentile is $21663.34\n"
     ]
    }
   ],
   "source": [
    "# Set initial investment\n",
    "initial_investment = 20000\n",
    "\n",
    "# Compute expected portfolio return\n",
    "expected_return_90 = round(initial_investment * cumulative_returns_90 , 2)\n",
    "expected_return_50 = round(initial_investment * cumulative_returns_50 , 2)\n",
    "expected_return_10 = round(initial_investment * cumulative_returns_10 , 2)\n",
    "\n",
    "print(f\"The expected portfolio return for the 90th percentile is ${expected_return_90}\")\n",
    "print(f\"The expected portfolio return for the 50th percentile is ${expected_return_50}\")\n",
    "print(f\"The expected portfolio return for the 10th percentile is ${expected_return_10}\")"
   ]
  },
  {
   "cell_type": "markdown",
   "metadata": {},
   "source": [
    "### Given the current projected annual income from the Plaid analysis, will a 4% withdraw rate from the retirement portfolio meet or exceed that value at the 10th percentile?\n",
    "\n",
    "Note: This is effectively saying that 90% of the expected returns will be greater than the return at the 10th percentile, so this can help measure the uncertainty about having enough funds at retirement"
   ]
  },
  {
   "cell_type": "code",
   "execution_count": 107,
   "metadata": {},
   "outputs": [
    {
     "name": "stdout",
     "output_type": "stream",
     "text": [
      "The yearly income of $866.5336 is not enough to cover the $6085 yearly income needed\n"
     ]
    }
   ],
   "source": [
    "# Set Plaid's projected income\n",
    "projected_income_plaid = 6085\n",
    "# Calculate the 4% withdrawal for the ending return as retirement income\n",
    "withdrawal_rate = 0.04\n",
    "retirement_income = withdrawal_rate * expected_return_10 \n",
    "# Determine if the retirement income meets or exceeds the current projected income\n",
    "if retirement_income >= projected_income_plaid:\n",
    "    print(f\"The yearly income of ${retirement_income} is enough to cover the ${projected_income_plaid} yearly income needed\")\n",
    "    \n",
    "else:\n",
    "    print(f\"The yearly income of ${retirement_income} is not enough to cover the ${projected_income_plaid} yearly income needed\")"
   ]
  },
  {
   "cell_type": "markdown",
   "metadata": {},
   "source": [
    "### How would a 50% increase in the initial investment amount affect the 4% retirement withdrawal?"
   ]
  },
  {
   "cell_type": "code",
   "execution_count": 108,
   "metadata": {},
   "outputs": [
    {
     "name": "stdout",
     "output_type": "stream",
     "text": [
      "The yearly income of $1299.8 is not enough to cover the $6085 yearly income needed\n"
     ]
    }
   ],
   "source": [
    "# Re-calculate the retirement income with a 50% increase in the initial investment amount\n",
    "new_initial_investment = 1.50 * initial_investment\n",
    "new_expected_return_10 = round(new_initial_investment * cumulative_returns_10 , 2)\n",
    "new_retirement_income = round((withdrawal_rate * new_expected_return_10) , 2)\n",
    "if new_retirement_income >= projected_income_plaid:\n",
    "    print(f\"The yearly income of ${new_retirement_income} is enough to cover the ${projected_income_plaid} yearly income needed\")\n",
    "    \n",
    "else:\n",
    "    print(f\"The yearly income of ${new_retirement_income} is not enough to cover the ${projected_income_plaid} yearly income needed\")"
   ]
  },
  {
   "cell_type": "markdown",
   "metadata": {},
   "source": [
    "### Optional Challenge\n",
    "\n",
    "Use the Monte Carlo data and calculate the cumulative returns at the `5%`, `50%`, and `95%` quartiles and plot this data as a line chart to see how the cumulative returns change over the life of the investment.\n",
    "\n",
    "In this section, you need to calculate and plot the cumulative returns for the median and `90%` confidence intervals. This plot shows the expected cumulative returns for any given day between the first day and the last day of investment. "
   ]
  },
  {
   "cell_type": "code",
   "execution_count": 91,
   "metadata": {},
   "outputs": [
    {
     "data": {
      "text/html": [
       "<div>\n",
       "<style scoped>\n",
       "    .dataframe tbody tr th:only-of-type {\n",
       "        vertical-align: middle;\n",
       "    }\n",
       "\n",
       "    .dataframe tbody tr th {\n",
       "        vertical-align: top;\n",
       "    }\n",
       "\n",
       "    .dataframe thead th {\n",
       "        text-align: right;\n",
       "    }\n",
       "</style>\n",
       "<table border=\"1\" class=\"dataframe\">\n",
       "  <thead>\n",
       "    <tr style=\"text-align: right;\">\n",
       "      <th></th>\n",
       "      <th>0</th>\n",
       "      <th>1</th>\n",
       "      <th>2</th>\n",
       "      <th>3</th>\n",
       "      <th>4</th>\n",
       "      <th>5</th>\n",
       "      <th>6</th>\n",
       "      <th>7</th>\n",
       "      <th>8</th>\n",
       "      <th>9</th>\n",
       "      <th>...</th>\n",
       "      <th>15</th>\n",
       "      <th>16</th>\n",
       "      <th>17</th>\n",
       "      <th>18</th>\n",
       "      <th>19</th>\n",
       "      <th>20</th>\n",
       "      <th>21</th>\n",
       "      <th>22</th>\n",
       "      <th>23</th>\n",
       "      <th>24</th>\n",
       "    </tr>\n",
       "  </thead>\n",
       "  <tbody>\n",
       "    <tr>\n",
       "      <th>0.05</th>\n",
       "      <td>20411.791309</td>\n",
       "      <td>20808.378213</td>\n",
       "      <td>19941.683987</td>\n",
       "      <td>19979.967872</td>\n",
       "      <td>20075.899734</td>\n",
       "      <td>20794.621288</td>\n",
       "      <td>19829.434598</td>\n",
       "      <td>19818.208599</td>\n",
       "      <td>21044.639465</td>\n",
       "      <td>19535.694995</td>\n",
       "      <td>...</td>\n",
       "      <td>19997.789117</td>\n",
       "      <td>19679.041522</td>\n",
       "      <td>19875.580022</td>\n",
       "      <td>20636.873131</td>\n",
       "      <td>20412.581511</td>\n",
       "      <td>20378.543010</td>\n",
       "      <td>20037.917626</td>\n",
       "      <td>19763.209337</td>\n",
       "      <td>20113.092690</td>\n",
       "      <td>19537.715213</td>\n",
       "    </tr>\n",
       "    <tr>\n",
       "      <th>0.95</th>\n",
       "      <td>22907.680776</td>\n",
       "      <td>25154.756183</td>\n",
       "      <td>22728.420076</td>\n",
       "      <td>25549.417287</td>\n",
       "      <td>22676.521744</td>\n",
       "      <td>22654.289257</td>\n",
       "      <td>22794.101781</td>\n",
       "      <td>21297.889908</td>\n",
       "      <td>24369.436564</td>\n",
       "      <td>21375.603453</td>\n",
       "      <td>...</td>\n",
       "      <td>22394.965072</td>\n",
       "      <td>22871.502633</td>\n",
       "      <td>24311.316180</td>\n",
       "      <td>25703.602263</td>\n",
       "      <td>21683.034652</td>\n",
       "      <td>23252.933414</td>\n",
       "      <td>23893.877002</td>\n",
       "      <td>22059.655160</td>\n",
       "      <td>25008.522802</td>\n",
       "      <td>22704.824575</td>\n",
       "    </tr>\n",
       "  </tbody>\n",
       "</table>\n",
       "<p>2 rows × 25 columns</p>\n",
       "</div>"
      ],
      "text/plain": [
       "                0             1             2             3             4   \\\n",
       "0.05  20411.791309  20808.378213  19941.683987  19979.967872  20075.899734   \n",
       "0.95  22907.680776  25154.756183  22728.420076  25549.417287  22676.521744   \n",
       "\n",
       "                5             6             7             8             9   \\\n",
       "0.05  20794.621288  19829.434598  19818.208599  21044.639465  19535.694995   \n",
       "0.95  22654.289257  22794.101781  21297.889908  24369.436564  21375.603453   \n",
       "\n",
       "      ...            15            16            17            18  \\\n",
       "0.05  ...  19997.789117  19679.041522  19875.580022  20636.873131   \n",
       "0.95  ...  22394.965072  22871.502633  24311.316180  25703.602263   \n",
       "\n",
       "                19            20            21            22            23  \\\n",
       "0.05  20412.581511  20378.543010  20037.917626  19763.209337  20113.092690   \n",
       "0.95  21683.034652  23252.933414  23893.877002  22059.655160  25008.522802   \n",
       "\n",
       "                24  \n",
       "0.05  19537.715213  \n",
       "0.95  22704.824575  \n",
       "\n",
       "[2 rows x 25 columns]"
      ]
     },
     "execution_count": 91,
     "metadata": {},
     "output_type": "execute_result"
    }
   ],
   "source": [
    "# Compute projected returns\n",
    "\n",
    "# Display sample data\n"
   ]
  },
  {
   "cell_type": "code",
   "execution_count": 77,
   "metadata": {},
   "outputs": [
    {
     "ename": "AttributeError",
     "evalue": "'numpy.float64' object has no attribute 'plot'",
     "output_type": "error",
     "traceback": [
      "\u001b[1;31m---------------------------------------------------------------------------\u001b[0m",
      "\u001b[1;31mAttributeError\u001b[0m                            Traceback (most recent call last)",
      "\u001b[1;32m<ipython-input-77-b88e9f245fd3>\u001b[0m in \u001b[0;36m<module>\u001b[1;34m\u001b[0m\n\u001b[0;32m      2\u001b[0m \u001b[0mending_returns1\u001b[0m \u001b[1;33m=\u001b[0m \u001b[0mportfolio_daily_returns\u001b[0m\u001b[1;33m.\u001b[0m\u001b[0mquantile\u001b[0m\u001b[1;33m(\u001b[0m\u001b[0mq\u001b[0m\u001b[1;33m=\u001b[0m\u001b[1;36m0.90\u001b[0m\u001b[1;33m)\u001b[0m \u001b[1;33m*\u001b[0m \u001b[0minitial_investment\u001b[0m\u001b[1;33m\u001b[0m\u001b[1;33m\u001b[0m\u001b[0m\n\u001b[0;32m      3\u001b[0m \u001b[1;33m\u001b[0m\u001b[0m\n\u001b[1;32m----> 4\u001b[1;33m \u001b[0mending_returns1\u001b[0m\u001b[1;33m.\u001b[0m\u001b[0mplot\u001b[0m\u001b[1;33m(\u001b[0m\u001b[1;33m)\u001b[0m\u001b[1;33m\u001b[0m\u001b[1;33m\u001b[0m\u001b[0m\n\u001b[0m",
      "\u001b[1;31mAttributeError\u001b[0m: 'numpy.float64' object has no attribute 'plot'"
     ]
    }
   ],
   "source": [
    "# Plot the cumulative returns over time"
   ]
  },
  {
   "cell_type": "code",
   "execution_count": null,
   "metadata": {},
   "outputs": [],
   "source": [
    "# Compute portfolio performance over time\n",
    "\n",
    "# Plot projected performance over time\n"
   ]
  }
 ],
 "metadata": {
  "kernelspec": {
   "display_name": "Python 3",
   "language": "python",
   "name": "python3"
  },
  "language_info": {
   "codemirror_mode": {
    "name": "ipython",
    "version": 3
   },
   "file_extension": ".py",
   "mimetype": "text/x-python",
   "name": "python",
   "nbconvert_exporter": "python",
   "pygments_lexer": "ipython3",
   "version": "3.7.6"
  }
 },
 "nbformat": 4,
 "nbformat_minor": 4
}
