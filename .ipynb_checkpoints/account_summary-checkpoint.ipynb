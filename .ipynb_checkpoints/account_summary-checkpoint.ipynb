{
 "cells": [
  {
   "cell_type": "markdown",
   "metadata": {},
   "source": [
    "# Budget Analysis\n",
    "\n",
    "---\n",
    "\n",
    "## Environment Setup"
   ]
  },
  {
   "cell_type": "code",
   "execution_count": 41,
   "metadata": {},
   "outputs": [],
   "source": [
    "# Initial Imports\n",
    "import os\n",
    "import plaid\n",
    "import requests\n",
    "import datetime\n",
    "import json\n",
    "import pandas as pd\n",
    "from dotenv import load_dotenv\n",
    "\n",
    "%matplotlib inline"
   ]
  },
  {
   "cell_type": "code",
   "execution_count": 2,
   "metadata": {},
   "outputs": [],
   "source": [
    "# Helper functions\n",
    "\n",
    "def pretty_print_response(response):\n",
    "    \"\"\"\n",
    "    This function formats a JSON file to pretty printing it in the screen.\n",
    "    \"\"\"\n",
    "    print(json.dumps(response, indent=4, sort_keys=True))"
   ]
  },
  {
   "cell_type": "code",
   "execution_count": 3,
   "metadata": {},
   "outputs": [
    {
     "data": {
      "text/plain": [
       "True"
      ]
     },
     "execution_count": 3,
     "metadata": {},
     "output_type": "execute_result"
    }
   ],
   "source": [
    "# Set environment variables from the .env file\n",
    "load_dotenv()"
   ]
  },
  {
   "cell_type": "code",
   "execution_count": 4,
   "metadata": {},
   "outputs": [],
   "source": [
    "# Extract API keys from environment variables\n",
    "PLAID_CLIENT_ID = os.getenv(\"PLAID_CLIENT_ID\")\n",
    "PLAID_SECRET = os.getenv(\"PLAID_SECRET\")\n",
    "PLAID_PUBLIC_KEY = os.getenv(\"PLAID_PUBLIC_KEY\")\n",
    "PLAID_SBX_SECRET_KEY = os.getenv('PLAID_SBX_SECRET_KEY')"
   ]
  },
  {
   "cell_type": "markdown",
   "metadata": {},
   "source": [
    "---\n",
    "\n",
    "## Plaid Access Token\n",
    "\n",
    "In this section, you will use the `plaid-python` API to generate the correct authentication tokens to access data in the free developer Sandbox. This mimics how you might connect to your own account or a customer account, but due to privacy issues, this homework will only require connecting to and analyzing the fake data from the developer sandbox that Plaid provides. \n",
    "\n",
    "Complete the following steps to generate an access token:\n",
    "\n",
    "1. Create a client to connect to plaid\n",
    "\n",
    "2. Use the client to generate a public token and request the following items: ['transactions', 'income', 'assets']\n",
    "\n",
    "3. Exchange the public token for an access token\n",
    "\n",
    "4. Test the access token by requesting and printing the available test accounts"
   ]
  },
  {
   "cell_type": "markdown",
   "metadata": {},
   "source": [
    "### 1. Create a client to connect to plaid"
   ]
  },
  {
   "cell_type": "code",
   "execution_count": 5,
   "metadata": {},
   "outputs": [],
   "source": [
    "# Create the client object\n",
    "client_object = plaid.Client(client_id=PLAID_CLIENT_ID, secret=PLAID_SBX_SECRET_KEY, public_key=PLAID_PUBLIC_KEY, environment='sandbox')"
   ]
  },
  {
   "cell_type": "code",
   "execution_count": 6,
   "metadata": {},
   "outputs": [],
   "source": [
    "# Set the institution id\n",
    "INSTITUTION_ID = \"ins_109508\""
   ]
  },
  {
   "cell_type": "markdown",
   "metadata": {},
   "source": [
    "### 2. Generate a public token"
   ]
  },
  {
   "cell_type": "code",
   "execution_count": 7,
   "metadata": {},
   "outputs": [
    {
     "name": "stdout",
     "output_type": "stream",
     "text": [
      "{'public_token': 'public-sandbox-9fa12c89-9ed1-4629-a42e-de0dbd5c052a', 'request_id': 'aCVghEmAVdRPh2X'}\n"
     ]
    }
   ],
   "source": [
    "# Create the public token\n",
    "create_tkn_response = client_object.Sandbox.public_token.create(INSTITUTION_ID, ['transactions', 'income', 'assets'])\n",
    "# Print the public token\n",
    "print(create_tkn_response)"
   ]
  },
  {
   "cell_type": "markdown",
   "metadata": {},
   "source": [
    "### 3. Exchange the public token for an access token"
   ]
  },
  {
   "cell_type": "code",
   "execution_count": 8,
   "metadata": {},
   "outputs": [
    {
     "name": "stdout",
     "output_type": "stream",
     "text": [
      "{'access_token': 'access-sandbox-15da9d42-7e5c-4009-bc9b-65d2bda4d428', 'item_id': 'Jj7A6KWWd9T8aMVajznZfjV1A49wbdFdqd1ka', 'request_id': '61ljzRvRMNEg7Wf'}\n"
     ]
    }
   ],
   "source": [
    "# Retrieve the access token\n",
    "exchange_response = client_object.Item.public_token.exchange(create_tkn_response['public_token'])\n",
    "# Print the access toke\n",
    "print(exchange_response)"
   ]
  },
  {
   "cell_type": "code",
   "execution_count": 9,
   "metadata": {},
   "outputs": [],
   "source": [
    "# Store the access token in a Python variable\n",
    "access_token = exchange_response['access_token']"
   ]
  },
  {
   "cell_type": "markdown",
   "metadata": {},
   "source": [
    "### 4. Fetch Accounts"
   ]
  },
  {
   "cell_type": "code",
   "execution_count": 10,
   "metadata": {},
   "outputs": [
    {
     "data": {
      "text/plain": [
       "[{'account_id': 'aqm4KLGGJ9hlb5ybP81LS58VE8gNeVc7DvKaZ',\n",
       "  'balances': {'available': 100,\n",
       "   'current': 110,\n",
       "   'iso_currency_code': 'USD',\n",
       "   'limit': None,\n",
       "   'unofficial_currency_code': None},\n",
       "  'mask': '0000',\n",
       "  'name': 'Plaid Checking',\n",
       "  'official_name': 'Plaid Gold Standard 0% Interest Checking',\n",
       "  'subtype': 'checking',\n",
       "  'type': 'depository'},\n",
       " {'account_id': '4WJBDgddwGiGm8Mmea4PcR7q37oMZqidLKRrl',\n",
       "  'balances': {'available': 200,\n",
       "   'current': 210,\n",
       "   'iso_currency_code': 'USD',\n",
       "   'limit': None,\n",
       "   'unofficial_currency_code': None},\n",
       "  'mask': '1111',\n",
       "  'name': 'Plaid Saving',\n",
       "  'official_name': 'Plaid Silver Standard 0.1% Interest Saving',\n",
       "  'subtype': 'savings',\n",
       "  'type': 'depository'},\n",
       " {'account_id': 'NZrm63yyVghn7oN7GrXpsZDaxDWy8acWQzAjn',\n",
       "  'balances': {'available': None,\n",
       "   'current': 1000,\n",
       "   'iso_currency_code': 'USD',\n",
       "   'limit': None,\n",
       "   'unofficial_currency_code': None},\n",
       "  'mask': '2222',\n",
       "  'name': 'Plaid CD',\n",
       "  'official_name': 'Plaid Bronze Standard 0.2% Interest CD',\n",
       "  'subtype': 'cd',\n",
       "  'type': 'depository'},\n",
       " {'account_id': 'P1B96dAARocejnNj1GzgFdjawjMNAaF7AnykN',\n",
       "  'balances': {'available': None,\n",
       "   'current': 410,\n",
       "   'iso_currency_code': 'USD',\n",
       "   'limit': 2000,\n",
       "   'unofficial_currency_code': None},\n",
       "  'mask': '3333',\n",
       "  'name': 'Plaid Credit Card',\n",
       "  'official_name': 'Plaid Diamond 12.5% APR Interest Credit Card',\n",
       "  'subtype': 'credit card',\n",
       "  'type': 'credit'},\n",
       " {'account_id': 'j481NK663PSdZbVZr8LqiEPebP1wleF1ajRMw',\n",
       "  'balances': {'available': 43200,\n",
       "   'current': 43200,\n",
       "   'iso_currency_code': 'USD',\n",
       "   'limit': None,\n",
       "   'unofficial_currency_code': None},\n",
       "  'mask': '4444',\n",
       "  'name': 'Plaid Money Market',\n",
       "  'official_name': 'Plaid Platinum Standard 1.85% Interest Money Market',\n",
       "  'subtype': 'money market',\n",
       "  'type': 'depository'},\n",
       " {'account_id': '7n9dmWNNvlS518G1zwVqfrRApRE7gACgxaBl6',\n",
       "  'balances': {'available': None,\n",
       "   'current': 320.76,\n",
       "   'iso_currency_code': 'USD',\n",
       "   'limit': None,\n",
       "   'unofficial_currency_code': None},\n",
       "  'mask': '5555',\n",
       "  'name': 'Plaid IRA',\n",
       "  'official_name': None,\n",
       "  'subtype': 'ira',\n",
       "  'type': 'investment'},\n",
       " {'account_id': 'eBm738DD41UnLo1L64zWs3DbaDeKybULmX3dx',\n",
       "  'balances': {'available': None,\n",
       "   'current': 23631.9805,\n",
       "   'iso_currency_code': 'USD',\n",
       "   'limit': None,\n",
       "   'unofficial_currency_code': None},\n",
       "  'mask': '6666',\n",
       "  'name': 'Plaid 401k',\n",
       "  'official_name': None,\n",
       "  'subtype': '401k',\n",
       "  'type': 'investment'},\n",
       " {'account_id': 'QL3v6aAAQmsgznNzb3oWFodlndLPqlcpDnlMB',\n",
       "  'balances': {'available': None,\n",
       "   'current': 65262,\n",
       "   'iso_currency_code': 'USD',\n",
       "   'limit': None,\n",
       "   'unofficial_currency_code': None},\n",
       "  'mask': '7777',\n",
       "  'name': 'Plaid Student Loan',\n",
       "  'official_name': None,\n",
       "  'subtype': 'student',\n",
       "  'type': 'loan'},\n",
       " {'account_id': 'Znmr6GAAweSELn3LrembuLb5AbQK45FgGv1R9',\n",
       "  'balances': {'available': None,\n",
       "   'current': 56302.06,\n",
       "   'iso_currency_code': 'USD',\n",
       "   'limit': None,\n",
       "   'unofficial_currency_code': None},\n",
       "  'mask': '8888',\n",
       "  'name': 'Plaid Mortgage',\n",
       "  'official_name': None,\n",
       "  'subtype': 'mortgage',\n",
       "  'type': 'loan'}]"
      ]
     },
     "execution_count": 10,
     "metadata": {},
     "output_type": "execute_result"
    }
   ],
   "source": [
    "# Retrieve accounts\n",
    "accounts = client_object.Accounts.get(access_token)['accounts']\n",
    "# Print accounts\n",
    "accounts"
   ]
  },
  {
   "cell_type": "markdown",
   "metadata": {},
   "source": [
    "---\n",
    "\n",
    "# Account Transactions with Plaid\n",
    "\n",
    "In this section, you will use the Plaid Python SDK to connect to the Developer Sandbox account and grab a list of transactions. You will need to complete the following steps:\n",
    "\n",
    "\n",
    "1. Use the access token to fetch the transactions for the last 90 days\n",
    "\n",
    "2. Print the categories for each transaction type\n",
    "\n",
    "3. Create a new DataFrame using the following fields from the JSON transaction data: `date, name, amount, category`. (For categories with more than one label, just use the first category label in the list)\n",
    "\n",
    "4. Convert the data types to the appropriate types (i.e. datetimeindex for the date and float for the amount)"
   ]
  },
  {
   "cell_type": "markdown",
   "metadata": {},
   "source": [
    "### 1. Fetch the Transactions for the last 90 days"
   ]
  },
  {
   "cell_type": "code",
   "execution_count": 12,
   "metadata": {},
   "outputs": [
    {
     "name": "stdout",
     "output_type": "stream",
     "text": [
      "{\n",
      "    \"account_id\": \"P1B96dAARocejnNj1GzgFdjawjMNAaF7AnykN\",\n",
      "    \"account_owner\": null,\n",
      "    \"amount\": 500,\n",
      "    \"authorized_date\": null,\n",
      "    \"category\": [\n",
      "        \"Food and Drink\",\n",
      "        \"Restaurants\"\n",
      "    ],\n",
      "    \"category_id\": \"13005000\",\n",
      "    \"date\": \"2020-07-24\",\n",
      "    \"iso_currency_code\": \"USD\",\n",
      "    \"location\": {\n",
      "        \"address\": null,\n",
      "        \"city\": null,\n",
      "        \"country\": null,\n",
      "        \"lat\": null,\n",
      "        \"lon\": null,\n",
      "        \"postal_code\": null,\n",
      "        \"region\": null,\n",
      "        \"store_number\": null\n",
      "    },\n",
      "    \"merchant_name\": \"Tectra Inc\",\n",
      "    \"name\": \"Tectra Inc\",\n",
      "    \"payment_channel\": \"in store\",\n",
      "    \"payment_meta\": {\n",
      "        \"by_order_of\": null,\n",
      "        \"payee\": null,\n",
      "        \"payer\": null,\n",
      "        \"payment_method\": null,\n",
      "        \"payment_processor\": null,\n",
      "        \"ppd_id\": null,\n",
      "        \"reason\": null,\n",
      "        \"reference_number\": null\n",
      "    },\n",
      "    \"pending\": false,\n",
      "    \"pending_transaction_id\": null,\n",
      "    \"transaction_code\": null,\n",
      "    \"transaction_id\": \"4WJBDgddwGiGm8Mmea4PcR7qmoq17oCdLKR54\",\n",
      "    \"transaction_type\": \"place\",\n",
      "    \"unofficial_currency_code\": null\n",
      "}\n"
     ]
    }
   ],
   "source": [
    "# Set the start and end date 90 days from today\n",
    "start_date_90 = '{:%Y-%m-%d}'.format(datetime.datetime.now() + datetime.timedelta(-90))\n",
    "end_date_90 = '{:%Y-%m-%d}'.format(datetime.datetime.now())\n",
    "\n",
    "# Get transactions for date range\n",
    "transaction_response = client_object.Transactions.get(access_token,start_date_90,end_date_90)\n",
    "# Retrieve the transactions for the last 90 days\n",
    "\n",
    "# Print the transactions - only the first entry to conserve space\n",
    "print(json.dumps(transaction_response['transactions'][0],indent=4, sort_keys=True))"
   ]
  },
  {
   "cell_type": "markdown",
   "metadata": {},
   "source": [
    "### 2. Print the categories for each transaction"
   ]
  },
  {
   "cell_type": "code",
   "execution_count": 13,
   "metadata": {},
   "outputs": [
    {
     "name": "stdout",
     "output_type": "stream",
     "text": [
      "Food and Drink\n",
      "Payment\n",
      "Food and Drink\n",
      "Shops\n",
      "Payment\n",
      "Travel\n",
      "Transfer\n",
      "Transfer\n",
      "Recreation\n",
      "Travel\n",
      "Food and Drink\n",
      "Food and Drink\n",
      "Food and Drink\n",
      "Transfer\n",
      "Travel\n",
      "Travel\n",
      "Food and Drink\n",
      "Payment\n",
      "Food and Drink\n",
      "Shops\n",
      "Payment\n",
      "Travel\n",
      "Transfer\n",
      "Transfer\n",
      "Recreation\n",
      "Travel\n",
      "Food and Drink\n",
      "Food and Drink\n",
      "Food and Drink\n",
      "Transfer\n",
      "Travel\n",
      "Travel\n",
      "Food and Drink\n",
      "Payment\n",
      "Food and Drink\n",
      "Shops\n",
      "Payment\n",
      "Travel\n",
      "Transfer\n",
      "Transfer\n",
      "Recreation\n",
      "Travel\n",
      "Food and Drink\n",
      "Food and Drink\n",
      "Food and Drink\n",
      "Transfer\n",
      "Travel\n",
      "Travel\n"
     ]
    }
   ],
   "source": [
    "# Create a for-loop to print the categories for each transaction\n",
    "for transactions in transaction_response['transactions']:\n",
    "    print(transactions['category'][0])"
   ]
  },
  {
   "cell_type": "markdown",
   "metadata": {},
   "source": [
    "### 3. Create a new DataFrame using the following fields from the JSON transaction data: `date`, `name`, `amount`, `category`. \n",
    "\n",
    "(For categories with more than one label, just use the first category label in the list)"
   ]
  },
  {
   "cell_type": "code",
   "execution_count": 40,
   "metadata": {},
   "outputs": [
    {
     "data": {
      "text/html": [
       "<div>\n",
       "<style scoped>\n",
       "    .dataframe tbody tr th:only-of-type {\n",
       "        vertical-align: middle;\n",
       "    }\n",
       "\n",
       "    .dataframe tbody tr th {\n",
       "        vertical-align: top;\n",
       "    }\n",
       "\n",
       "    .dataframe thead th {\n",
       "        text-align: right;\n",
       "    }\n",
       "</style>\n",
       "<table border=\"1\" class=\"dataframe\">\n",
       "  <thead>\n",
       "    <tr style=\"text-align: right;\">\n",
       "      <th></th>\n",
       "      <th>Date</th>\n",
       "      <th>Name</th>\n",
       "      <th>Amount</th>\n",
       "      <th>Category</th>\n",
       "    </tr>\n",
       "  </thead>\n",
       "  <tbody>\n",
       "    <tr>\n",
       "      <th>0</th>\n",
       "      <td>2020-07-24</td>\n",
       "      <td>Tectra Inc</td>\n",
       "      <td>500.0</td>\n",
       "      <td>Food and Drink</td>\n",
       "    </tr>\n",
       "    <tr>\n",
       "      <th>1</th>\n",
       "      <td>2020-07-23</td>\n",
       "      <td>AUTOMATIC PAYMENT - THANK</td>\n",
       "      <td>2078.5</td>\n",
       "      <td>Payment</td>\n",
       "    </tr>\n",
       "    <tr>\n",
       "      <th>2</th>\n",
       "      <td>2020-07-23</td>\n",
       "      <td>KFC</td>\n",
       "      <td>500.0</td>\n",
       "      <td>Food and Drink</td>\n",
       "    </tr>\n",
       "    <tr>\n",
       "      <th>3</th>\n",
       "      <td>2020-07-23</td>\n",
       "      <td>Madison Bicycle Shop</td>\n",
       "      <td>500.0</td>\n",
       "      <td>Shops</td>\n",
       "    </tr>\n",
       "    <tr>\n",
       "      <th>4</th>\n",
       "      <td>2020-07-14</td>\n",
       "      <td>CREDIT CARD 3333 PAYMENT *//</td>\n",
       "      <td>25.0</td>\n",
       "      <td>Payment</td>\n",
       "    </tr>\n",
       "  </tbody>\n",
       "</table>\n",
       "</div>"
      ],
      "text/plain": [
       "         Date                          Name  Amount        Category\n",
       "0  2020-07-24                    Tectra Inc   500.0  Food and Drink\n",
       "1  2020-07-23     AUTOMATIC PAYMENT - THANK  2078.5         Payment\n",
       "2  2020-07-23                           KFC   500.0  Food and Drink\n",
       "3  2020-07-23          Madison Bicycle Shop   500.0           Shops\n",
       "4  2020-07-14  CREDIT CARD 3333 PAYMENT *//    25.0         Payment"
      ]
     },
     "execution_count": 40,
     "metadata": {},
     "output_type": "execute_result"
    }
   ],
   "source": [
    "# Define an empty DataFrame and set the columns as date, name, amount, and category\n",
    "df = pd.DataFrame(columns=[\"date\",\"name\",'amount',\"category\"])\n",
    "\n",
    "names = []\n",
    "dates = []\n",
    "amount = []\n",
    "category = []\n",
    "\n",
    "# Retrieve all the transactions\n",
    "for x in transaction_response['transactions']:\n",
    "   \n",
    "    names.append(x['name'])\n",
    "    dates.append(x['date'])\n",
    "    amount.append(x['amount'])\n",
    "    category.append(x['category'][0])\n",
    "                   \n",
    "# Populate the transactions DataFrame with the transactions data\n",
    "# Display sample data from the DataFrame\n",
    "df_90 = pd.DataFrame({'Date' : dates , 'Name' : names , 'Amount' : amount , 'Category' : category})\n",
    "\n",
    "df_90.head()"
   ]
  },
  {
   "cell_type": "markdown",
   "metadata": {},
   "source": [
    "### 4. Convert the data types to the appropriate types \n",
    "### 5. Set Date as Index\n",
    "\n",
    "(i.e. datetimeindex for the date and float for the amount)"
   ]
  },
  {
   "cell_type": "code",
   "execution_count": null,
   "metadata": {},
   "outputs": [],
   "source": [
    "df_90['Date'] = pd.to_datetime(df_90['Date'])\n",
    "df_90 = df_90.set_index('Date')"
   ]
  },
  {
   "cell_type": "markdown",
   "metadata": {},
   "source": [
    "---"
   ]
  },
  {
   "cell_type": "markdown",
   "metadata": {},
   "source": [
    "# Income Analysis with Plaid\n",
    "\n",
    "In this section, you will use the Plaid Sandbox to complete the following:\n",
    "\n",
    "1. Determine the previous year's gross income and print the results\n",
    "\n",
    "2. Determine the current monthly income and print the results\n",
    "\n",
    "3. Determine the projected yearly income and print the results"
   ]
  },
  {
   "cell_type": "code",
   "execution_count": 16,
   "metadata": {},
   "outputs": [
    {
     "name": "stdout",
     "output_type": "stream",
     "text": [
      "{\n",
      "    \"income\": {\n",
      "        \"income_streams\": [\n",
      "            {\n",
      "                \"confidence\": 0.99,\n",
      "                \"days\": 690,\n",
      "                \"monthly_income\": 500,\n",
      "                \"name\": \"UNITED AIRLINES\"\n",
      "            }\n",
      "        ],\n",
      "        \"last_year_income\": 6000,\n",
      "        \"last_year_income_before_tax\": 7285,\n",
      "        \"max_number_of_overlapping_income_streams\": 1,\n",
      "        \"number_of_income_streams\": 1,\n",
      "        \"projected_yearly_income\": 6085,\n",
      "        \"projected_yearly_income_before_tax\": 7389\n",
      "    },\n",
      "    \"request_id\": \"a86WOLpRKsQavTn\"\n",
      "}\n"
     ]
    }
   ],
   "source": [
    "# Fetch de income data\n",
    "income_response365 = client_object.Income.get(access_token)\n",
    "# Print the transactions - only the first entry to conserve space\n",
    "print(json.dumps(income_response365,indent=4, sort_keys=True))"
   ]
  },
  {
   "cell_type": "code",
   "execution_count": 17,
   "metadata": {},
   "outputs": [
    {
     "name": "stdout",
     "output_type": "stream",
     "text": [
      "The income for last year was $6000\n"
     ]
    }
   ],
   "source": [
    "# Determine the previous year's gross income and print the results\n",
    "print(f\"The income for last year was ${income_response365['income']['last_year_income']}\")"
   ]
  },
  {
   "cell_type": "code",
   "execution_count": 18,
   "metadata": {},
   "outputs": [
    {
     "name": "stdout",
     "output_type": "stream",
     "text": [
      "The current monthly income is $500\n"
     ]
    }
   ],
   "source": [
    "# Determine the current monthly income and print the results\n",
    "print(f\"The current monthly income is ${income_response365['income']['income_streams'][0]['monthly_income']}\")"
   ]
  },
  {
   "cell_type": "code",
   "execution_count": 19,
   "metadata": {},
   "outputs": [
    {
     "name": "stdout",
     "output_type": "stream",
     "text": [
      "The projected yearly income is $6085\n"
     ]
    }
   ],
   "source": [
    "# Determine the projected yearly income and print the results\n",
    "print(f\"The projected yearly income is ${income_response365['income']['projected_yearly_income']}\")"
   ]
  },
  {
   "cell_type": "markdown",
   "metadata": {},
   "source": [
    "---"
   ]
  },
  {
   "cell_type": "markdown",
   "metadata": {},
   "source": [
    "# Budget Analysis\n",
    "In this section, you will use the transactions DataFrame to analyze the customer's budget\n",
    "\n",
    "1. Calculate the total spending per category and print the results (Hint: groupby or count transactions per category)\n",
    "\n",
    "2. Generate a bar chart with the number of transactions for each category\n",
    "\n",
    "3. Calulate the expenses per month\n",
    "\n",
    "4. Plot the total expenses per month"
   ]
  },
  {
   "cell_type": "markdown",
   "metadata": {},
   "source": [
    "### Calculate the expenses per category"
   ]
  },
  {
   "cell_type": "code",
   "execution_count": 30,
   "metadata": {},
   "outputs": [
    {
     "data": {
      "text/plain": [
       "Category\n",
       "Food and Drink     3317.19\n",
       "Payment            6310.50\n",
       "Recreation          235.50\n",
       "Shops              1500.00\n",
       "Transfer          20537.34\n",
       "Travel               35.19\n",
       "Name: Amount, dtype: float64"
      ]
     },
     "execution_count": 30,
     "metadata": {},
     "output_type": "execute_result"
    }
   ],
   "source": [
    "# Compute the total expenses per category\n",
    "categories_df = df_90.groupby('Category')['Amount'].sum()\n",
    "# Display the expenses per category\n",
    "categories_df"
   ]
  },
  {
   "cell_type": "code",
   "execution_count": 31,
   "metadata": {},
   "outputs": [
    {
     "data": {
      "text/plain": [
       "array([<matplotlib.axes._subplots.AxesSubplot object at 0x0000023622E1B7C8>],\n",
       "      dtype=object)"
      ]
     },
     "execution_count": 31,
     "metadata": {},
     "output_type": "execute_result"
    },
    {
     "data": {
      "image/png": "[encoded data removed]",
      "text/plain": [
       "<Figure size 432x288 with 1 Axes>"
      ]
     },
     "metadata": {},
     "output_type": "display_data"
    }
   ],
   "source": [
    "# Create a spending categories pie chart.\n",
    "categories_df.plot(kind=\"pie\", subplots=True)"
   ]
  },
  {
   "cell_type": "markdown",
   "metadata": {},
   "source": [
    "### Calculate the expenses per month"
   ]
  },
  {
   "cell_type": "code",
   "execution_count": 38,
   "metadata": {},
   "outputs": [
    {
     "data": {
      "text/html": [
       "<div>\n",
       "<style scoped>\n",
       "    .dataframe tbody tr th:only-of-type {\n",
       "        vertical-align: middle;\n",
       "    }\n",
       "\n",
       "    .dataframe tbody tr th {\n",
       "        vertical-align: top;\n",
       "    }\n",
       "\n",
       "    .dataframe thead th {\n",
       "        text-align: right;\n",
       "    }\n",
       "</style>\n",
       "<table border=\"1\" class=\"dataframe\">\n",
       "  <thead>\n",
       "    <tr style=\"text-align: right;\">\n",
       "      <th></th>\n",
       "      <th></th>\n",
       "      <th>Amount</th>\n",
       "    </tr>\n",
       "    <tr>\n",
       "      <th>Date</th>\n",
       "      <th>Date</th>\n",
       "      <th></th>\n",
       "    </tr>\n",
       "  </thead>\n",
       "  <tbody>\n",
       "    <tr>\n",
       "      <th rowspan=\"4\" valign=\"top\">2020</th>\n",
       "      <th>4</th>\n",
       "      <td>506.33</td>\n",
       "    </tr>\n",
       "    <tr>\n",
       "      <th>5</th>\n",
       "      <td>10645.24</td>\n",
       "    </tr>\n",
       "    <tr>\n",
       "      <th>6</th>\n",
       "      <td>10645.24</td>\n",
       "    </tr>\n",
       "    <tr>\n",
       "      <th>7</th>\n",
       "      <td>10138.91</td>\n",
       "    </tr>\n",
       "  </tbody>\n",
       "</table>\n",
       "</div>"
      ],
      "text/plain": [
       "             Amount\n",
       "Date Date          \n",
       "2020 4       506.33\n",
       "     5     10645.24\n",
       "     6     10645.24\n",
       "     7     10138.91"
      ]
     },
     "execution_count": 38,
     "metadata": {},
     "output_type": "execute_result"
    }
   ],
   "source": [
    "# Create a DataFrame with the total expenses\n",
    "monthly_expense = df_90.groupby([df_90.index.year,df_90.index.month]).sum()\n",
    "# Display sample data\n",
    "monthly_expense"
   ]
  },
  {
   "cell_type": "code",
   "execution_count": 39,
   "metadata": {},
   "outputs": [
    {
     "data": {
      "text/plain": [
       "<matplotlib.axes._subplots.AxesSubplot at 0x236231301c8>"
      ]
     },
     "execution_count": 39,
     "metadata": {},
     "output_type": "execute_result"
    },
    {
     "data": {
      "image/png": "[encoded data removed]",
      "text/plain": [
       "<Figure size 432x288 with 1 Axes>"
      ]
     },
     "metadata": {
      "needs_background": "light"
     },
     "output_type": "display_data"
    }
   ],
   "source": [
    "# Create a spending per month bar chart\n",
    "monthly_expense.plot(kind=\"bar\")"
   ]
  }
 ],
 "metadata": {
  "kernelspec": {
   "display_name": "Python 3",
   "language": "python",
   "name": "python3"
  },
  "language_info": {
   "codemirror_mode": {
    "name": "ipython",
    "version": 3
   },
   "file_extension": ".py",
   "mimetype": "text/x-python",
   "name": "python",
   "nbconvert_exporter": "python",
   "pygments_lexer": "ipython3",
   "version": "3.7.6"
  }
 },
 "nbformat": 4,
 "nbformat_minor": 4
}
